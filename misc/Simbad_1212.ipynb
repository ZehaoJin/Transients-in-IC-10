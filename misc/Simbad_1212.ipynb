{
 "cells": [
  {
   "cell_type": "code",
   "execution_count": 1,
   "id": "1e1b02ba",
   "metadata": {},
   "outputs": [],
   "source": [
    "from astropy.io import fits\n",
    "import numpy as np\n",
    "from astropy.table import QTable,vstack\n",
    "import astropy.units as u\n",
    "import astropy.utils\n",
    "from astropy.coordinates import SkyCoord\n",
    "import matplotlib.pyplot as plt\n",
    "import matplotlib.colors\n",
    "from scipy.stats import chisquare\n",
    "from scipy.stats import chi2\n",
    "from scipy.stats import lognorm\n",
    "from scipy.stats import f\n",
    "from astropy.timeseries import LombScargle\n",
    "import time\n",
    "from astropy.visualization import hist\n",
    "from scipy.optimize import curve_fit\n",
    "from astropy.timeseries import BoxLeastSquares\n",
    "from astropy.timeseries import TimeSeries\n",
    "from astropy.time import Time\n",
    "from tqdm import tqdm\n",
    "\n",
    "\n",
    "import functions\n",
    "#import upsilon"
   ]
  },
  {
   "cell_type": "code",
   "execution_count": null,
   "id": "3d3af47a",
   "metadata": {},
   "outputs": [],
   "source": [
    "t_zr=QTable.read('t_zr_1024.ecsv')\n",
    "t_zg=QTable.read('t_zg_1024.ecsv')"
   ]
  },
  {
   "cell_type": "code",
   "execution_count": 13,
   "id": "511d5ae6",
   "metadata": {},
   "outputs": [],
   "source": [
    "t=np.unique(t_zr['SourceID'])\n",
    "ra,dec=np.zeros(len(t)),np.zeros(len(t))\n",
    "for i,row in enumerate(t):\n",
    "    ra[i]=np.mean(t_zr[t_zr['SourceID']==row]['RA'])\n",
    "    dec[i]=np.mean(t_zr[t_zr['SourceID']==row]['DEC'])"
   ]
  },
  {
   "cell_type": "code",
   "execution_count": 18,
   "id": "cdb7166b",
   "metadata": {},
   "outputs": [],
   "source": [
    "zr=astropy.table.Table([t,ra,dec],names=['SourceID','RA','DEC'])"
   ]
  },
  {
   "cell_type": "code",
   "execution_count": 20,
   "id": "9be684b2",
   "metadata": {},
   "outputs": [],
   "source": [
    "t=np.unique(t_zg['SourceID'])\n",
    "ra,dec=np.zeros(len(t)),np.zeros(len(t))\n",
    "for i,row in enumerate(t):\n",
    "    ra[i]=np.mean(t_zg[t_zg['SourceID']==row]['RA'])\n",
    "    dec[i]=np.mean(t_zg[t_zg['SourceID']==row]['DEC'])"
   ]
  },
  {
   "cell_type": "code",
   "execution_count": 21,
   "id": "e50ed536",
   "metadata": {},
   "outputs": [],
   "source": [
    "zg=astropy.table.Table([t,ra,dec],names=['SourceID','RA','DEC'])"
   ]
  },
  {
   "cell_type": "code",
   "execution_count": 23,
   "id": "e7fb9dd9",
   "metadata": {},
   "outputs": [],
   "source": [
    "zr.write('simbad_zr.csv')\n",
    "zg.write('simbad_zg.csv')"
   ]
  },
  {
   "cell_type": "code",
   "execution_count": 28,
   "id": "2470a51d",
   "metadata": {},
   "outputs": [],
   "source": [
    "simbad_zr=QTable.read('zr_simbad.csv')\n",
    "simbad_zg=QTable.read('zg_simbad.csv')"
   ]
  },
  {
   "cell_type": "code",
   "execution_count": 74,
   "id": "2004bc96",
   "metadata": {},
   "outputs": [],
   "source": [
    "t_zr=QTable.read('t_zr_1024.ecsv')\n",
    "t_zg=QTable.read('t_zg_1024.ecsv')"
   ]
  },
  {
   "cell_type": "code",
   "execution_count": 75,
   "id": "ba7b5445",
   "metadata": {},
   "outputs": [],
   "source": [
    "t_zr['identifier']=np.empty(1,dtype='<U256')\n",
    "t_zr['dist']=np.nan\n",
    "t_zr['type']=np.empty(1,dtype='<U30')"
   ]
  },
  {
   "cell_type": "code",
   "execution_count": 76,
   "id": "192bed16",
   "metadata": {},
   "outputs": [],
   "source": [
    "t_zg['identifier']=np.empty(1,dtype='<U256')\n",
    "t_zg['dist']=np.nan\n",
    "t_zg['type']=np.empty(1,dtype='<U30')"
   ]
  },
  {
   "cell_type": "code",
   "execution_count": 77,
   "id": "85cf33b2",
   "metadata": {},
   "outputs": [],
   "source": [
    "for i,row in enumerate(t_zr):\n",
    "    common=simbad_zr[simbad_zr['SourceID']==row['SourceID']]\n",
    "    if len(common)!=0:\n",
    "        match=common[common['angDist'].argmin()]\n",
    "        row['identifier']=match['main_id']\n",
    "        row['dist']=match['angDist']\n",
    "        row['type']=match['main_type']"
   ]
  },
  {
   "cell_type": "code",
   "execution_count": 79,
   "id": "12d966ef",
   "metadata": {},
   "outputs": [],
   "source": [
    "for i,row in enumerate(t_zg):\n",
    "    common=simbad_zg[simbad_zg['SourceID']==row['SourceID']]\n",
    "    if len(common)!=0:\n",
    "        match=common[common['angDist'].argmin()]\n",
    "        row['identifier']=match['main_id']\n",
    "        row['dist']=match['angDist']\n",
    "        row['type']=match['main_type']"
   ]
  },
  {
   "cell_type": "code",
   "execution_count": 82,
   "id": "f25647e7",
   "metadata": {},
   "outputs": [],
   "source": [
    "t_zr.write('t_zr_1212.ecsv')\n",
    "t_zg.write('t_zg_1212.ecsv')"
   ]
  },
  {
   "cell_type": "code",
   "execution_count": null,
   "id": "7ab90d26",
   "metadata": {},
   "outputs": [],
   "source": []
  },
  {
   "cell_type": "code",
   "execution_count": null,
   "id": "a4e72637",
   "metadata": {},
   "outputs": [],
   "source": []
  },
  {
   "cell_type": "code",
   "execution_count": 2,
   "id": "3ad7de00",
   "metadata": {},
   "outputs": [],
   "source": [
    "t_zr=QTable.read('t_zr_1212.ecsv')\n",
    "t_zg=QTable.read('t_zg_1212.ecsv')\n",
    "t_zr=t_zr[np.isnan(t_zr['LNP_SIG'])==False]\n",
    "t_zg=t_zg[np.isnan(t_zg['LNP_SIG'])==False]\n",
    "\n",
    "var_zr=t_zr[t_zr['sf']<1/(100*len(t_zr))] #99% chance variabe\n",
    "var_zg=t_zg[t_zg['sf']<1/(100*len(t_zg))] #99% chance variabe\n",
    "\n",
    "nonvar_zr=t_zr[t_zr['sf']>1/(100*len(t_zr))]\n",
    "nonvar_zg=t_zg[t_zg['sf']>1/(100*len(t_zg))]\n",
    "\n",
    "def cut_LNP_SIG(t,period,LNP_SIG):\n",
    "    #t=t[(t['period']<period[0])|(t['period']>period[1])]\n",
    "    #t=t[(t['period']<period[2])|(t['period']>period[3])]\n",
    "    #if len(period)>4:\n",
    "        #t=t[(t['period']<period[4])|(t['period']>period[5])]\n",
    "    t=t[t['LNP_SIG']<LNP_SIG]\n",
    "    return t\n",
    "\n",
    "t_zr=cut_LNP_SIG(var_zr,_,1/(100*len(t_zr)))\n",
    "t_zg=cut_LNP_SIG(var_zg,_,1/(100*len(t_zg)))\n",
    "\n",
    "\n",
    "# cut power ratios\n",
    "obj_zr=t_zr[t_zr['power']/t_zr['power_c']>=1]\n",
    "obj_zg=t_zg[t_zg['power']/t_zg['power_c']>=1]\n",
    "\n",
    "\n",
    "# cut close periods\n",
    "obj_zr=obj_zr[np.abs(obj_zr['period']-obj_zr['period_c'])/obj_zr['period_c']>1e-2]\n",
    "obj_zg=obj_zg[np.abs(obj_zg['period']-obj_zg['period_c'])/obj_zg['period_c']>1e-2]\n",
    "\n",
    "obj_zr=obj_zr[(np.abs(obj_zr['period']-obj_zr['period_c'])/obj_zr['period_c']<0.49)|(np.abs(obj_zr['period']-obj_zr['period_c'])/obj_zr['period_c']>0.91)|(obj_zr['LNP_SIG']<1e-30)]\n",
    "obj_zg=obj_zg[(np.abs(obj_zg['period']-obj_zg['period_c'])/obj_zg['period_c']<0.49)|(np.abs(obj_zg['period']-obj_zg['period_c'])/obj_zg['period_c']>0.91)|(obj_zg['LNP_SIG']<1e-30)]\n",
    "\n",
    "\n",
    "\n",
    "\n",
    "# restore original table for ploting reasons\n",
    "t_zr=QTable.read('t_zr_1212.ecsv')\n",
    "t_zg=QTable.read('t_zg_1212.ecsv')\n",
    "\n",
    "# choose only OID with highest numobs\n",
    "mask=np.zeros(len(obj_zr))+1\n",
    "for i,obj in enumerate(obj_zr):\n",
    "    copy=t_zr[t_zr['SourceID']==obj['SourceID']]\n",
    "    if len(copy)==1:\n",
    "        if obj['numobs']<50:\n",
    "            mask[i]=0\n",
    "    if len(copy)>1:\n",
    "        if obj['OID']!=copy['OID'][copy['numobs'].argmax()]:\n",
    "            mask[i]=0\n",
    "        if obj['numobs']<50:\n",
    "            mask[i]=0\n",
    "obj_zr=obj_zr[mask==1]\n",
    "\n",
    "\n",
    "mask=np.zeros(len(obj_zg))+1\n",
    "for i,obj in enumerate(obj_zg):\n",
    "    copy=t_zg[t_zg['SourceID']==obj['SourceID']]\n",
    "    if len(copy)==1:\n",
    "        if obj['numobs']<50:\n",
    "            mask[i]=0\n",
    "    if len(copy)>1:\n",
    "        if obj['OID']!=copy['OID'][copy['numobs'].argmax()]:\n",
    "            mask[i]=0\n",
    "        if obj['numobs']<50:\n",
    "            mask[i]=0\n",
    "obj_zg=obj_zg[mask==1]"
   ]
  },
  {
   "cell_type": "code",
   "execution_count": 3,
   "id": "09b60396",
   "metadata": {},
   "outputs": [],
   "source": [
    "unobj_zr=var_zr[np.isin(var_zr['SourceID'],obj_zr['SourceID'])==0]\n",
    "unobj_zg=var_zg[np.isin(var_zg['SourceID'],obj_zg['SourceID'])==0]"
   ]
  },
  {
   "cell_type": "code",
   "execution_count": 4,
   "id": "f28d6c45",
   "metadata": {},
   "outputs": [
    {
     "data": {
      "text/plain": [
       "(14, 3)"
      ]
     },
     "execution_count": 4,
     "metadata": {},
     "output_type": "execute_result"
    }
   ],
   "source": [
    "len(np.unique(obj_zr[np.isnan(obj_zr['dist'])==0]['SourceID'])),len(np.unique(obj_zg[np.isnan(obj_zg['dist'])==0]['SourceID']))"
   ]
  },
  {
   "cell_type": "code",
   "execution_count": 5,
   "id": "80c0fab9",
   "metadata": {},
   "outputs": [
    {
     "data": {
      "text/plain": [
       "(43, 28)"
      ]
     },
     "execution_count": 5,
     "metadata": {},
     "output_type": "execute_result"
    }
   ],
   "source": [
    "len(np.unique(unobj_zr[np.isnan(unobj_zr['dist'])==0]['SourceID'])),len(np.unique(unobj_zg[np.isnan(unobj_zg['dist'])==0]['SourceID']))"
   ]
  },
  {
   "cell_type": "code",
   "execution_count": 6,
   "id": "9af5f76c",
   "metadata": {},
   "outputs": [
    {
     "data": {
      "text/html": [
       "<i>QTable length=14</i>\n",
       "<table id=\"table2509136537776-790608\" class=\"table-striped table-bordered table-condensed\">\n",
       "<thead><tr><th>idx</th><th>SourceID</th><th>filter</th><th>OID</th><th>RA</th><th>DEC</th><th>numobs</th><th>DELTA_SIG_MAG</th><th>CONST_CHI2</th><th>sf</th><th>rmse</th><th>LNP_SIG</th><th>period</th><th>period_c</th><th>power</th><th>power_c</th><th>mean</th><th>std</th><th>min</th><th>max</th><th>sigma_mean</th><th>sigma_std</th><th>gaussian1_err</th><th>gaussian2_err</th><th>gumbel_err</th><th>g2_flag</th><th>Pg1g2</th><th>Pgug2</th><th>Pg1gu</th><th>shape</th><th>upsilon_class</th><th>upsilon_prob</th><th>upsilon_flag</th><th>upsilon_period</th><th>identifier</th><th>dist</th><th>type</th></tr></thead>\n",
       "<tr><td>0</td><td>52</td><td>zr</td><td>806203100023276</td><td>5.0806496</td><td>59.3093092</td><td>664</td><td>48.39557647705078</td><td>9.548270702053268</td><td>1.3227187319910005e-189</td><td>0.3108588755130768</td><td>1.7018337280194596e-78</td><td>595.2450708466688</td><td>0.997336033066433</td><td>0.6229683753591274</td><td>0.21949631231274336</td><td>19.675853729248047</td><td>0.3108588755130768</td><td>19.17412567138672</td><td>20.918895721435547</td><td>-0.7161276936531067</td><td>3.285275936126709</td><td>0.05060821258505381</td><td>0.007833020026423389</td><td>0.026125014733712922</td><td>0.0</td><td>0.014227170500624942</td><td>0.0517871312497491</td><td>0.20132354399945207</td><td>g2</td><td>LPV_OSARG_AGB</td><td>0.33</td><td>0.0</td><td>566.9630815875007</td><td>[HL90]  61</td><td>1.854526</td><td>HII</td></tr>\n",
       "<tr><td>1</td><td>77</td><td>zr</td><td>806203100063307</td><td>5.0870906</td><td>59.2998095</td><td>836</td><td>344.7351989746094</td><td>40.842491010031104</td><td>0.0</td><td>0.22717958688735962</td><td>7.488112388238467e-24</td><td>26.55255504914417</td><td>0.997336033066433</td><td>0.25554257162342087</td><td>0.0034232661997002983</td><td>18.791976928710938</td><td>0.22717958688735962</td><td>17.675485610961914</td><td>19.1998348236084</td><td>-0.8078729510307312</td><td>6.599571704864502</td><td>0.010941253454579771</td><td>0.0022451831278411214</td><td>0.04598158685382897</td><td>1.0</td><td>0.024749755228021697</td><td>0.001446042828369909</td><td>0.961198797591372</td><td>g1</td><td>CEPH_Other</td><td>0.44</td><td>0.0</td><td>26.524588612280738</td><td>[WWW2005] XA 11</td><td>0.264632</td><td>X</td></tr>\n",
       "<tr><td>2</td><td>90</td><td>zr</td><td>806203100056957</td><td>5.0836327</td><td>59.3114535</td><td>846</td><td>567.4482421875</td><td>120.79296419281002</td><td>0.0</td><td>0.3739984333515167</td><td>3.247011689208663e-280</td><td>2043.207284960579</td><td>0.997336033066433</td><td>0.9506730073393318</td><td>0.47493011002121566</td><td>18.124500274658203</td><td>0.3739984333515167</td><td>17.195171356201172</td><td>18.949966430664062</td><td>-2.5609970092773438</td><td>11.737095832824707</td><td>0.18947997991941207</td><td>0.020160519579386485</td><td>0.15060952910358819</td><td>0.0</td><td>0.006788985925998747</td><td>0.01068657840378251</td><td>0.38484022277800156</td><td>g2</td><td>LPV_Mira_AGB_C</td><td>0.26</td><td>0.0</td><td>2267.852326350003</td><td>LGGS J002020.03+591841.2</td><td>0.205743</td><td>Em*</td></tr>\n",
       "<tr><td>3</td><td>145</td><td>zr</td><td>806203100043772</td><td>5.0957151</td><td>59.2994528</td><td>717</td><td>66.61664581298828</td><td>3.5379984089296954</td><td>2.2753838245357322e-18</td><td>0.14171883463859558</td><td>1.0515294240953812e-12</td><td>981.7766691905116</td><td>0.997336033066433</td><td>0.17591322363193937</td><td>0.09890003454859338</td><td>19.4619083404541</td><td>0.14171883463859558</td><td>18.99640655517578</td><td>20.149547576904297</td><td>-0.18844391405582428</td><td>1.9061943292617798</td><td>0.014671911593230497</td><td>0.003428865224048767</td><td>0.0160385433525674</td><td>0.0</td><td>0.03191100590870233</td><td>0.026816135608569547</td><td>0.5452531399277134</td><td>g2</td><td>NonVar</td><td>0.35</td><td>0.0</td><td>1133.9261631750014</td><td>LGGS J002022.99+591757.8</td><td>0.329861</td><td>Em*</td></tr>\n",
       "<tr><td>4</td><td>158</td><td>zr</td><td>806203100057075</td><td>5.0953672</td><td>59.297784</td><td>702</td><td>85.88482666015625</td><td>6.528562040377028</td><td>1.9791103413711206e-94</td><td>0.179270938038826</td><td>5.255097789862924e-52</td><td>595.2450708466688</td><td>0.997336033066433</td><td>0.4806277327856466</td><td>0.1408160323876546</td><td>19.39754295349121</td><td>0.179270938038826</td><td>18.829944610595703</td><td>19.830501556396484</td><td>-0.3216327726840973</td><td>2.6130337715148926</td><td>0.04033986549469937</td><td>0.01823640263202334</td><td>0.044388907661337296</td><td>0.0</td><td>0.1137638087262609</td><td>0.09485607097744764</td><td>0.5485841987547181</td><td>g1</td><td>LPV_SRV_AGB_O</td><td>0.39</td><td>0.0</td><td>647.9578075285723</td><td>LGGS J002022.90+591751.8</td><td>0.252989</td><td>Em*</td></tr>\n",
       "<tr><td>5</td><td>168</td><td>zr</td><td>806203100060423</td><td>5.0989475</td><td>59.3023316</td><td>603</td><td>43.353397369384766</td><td>3.6096865088249213</td><td>9.805802856611858e-19</td><td>0.20166358351707458</td><td>5.211841335015464e-23</td><td>481.50270086755603</td><td>0.997336033066433</td><td>0.28793891233976</td><td>0.19382587404148513</td><td>19.980669021606445</td><td>0.20166358351707458</td><td>19.334941864013672</td><td>20.572986602783203</td><td>-0.2577386200428009</td><td>1.9497979879379272</td><td>0.02288762441783082</td><td>0.005203361869715385</td><td>0.015654582112170936</td><td>0.0</td><td>0.030238490340185997</td><td>0.06319318525503015</td><td>0.31436707892533344</td><td>g2</td><td>LPV_OSARG_AGB</td><td>0.26</td><td>0.0</td><td>503.96718363333395</td><td>[HL90]  92</td><td>1.336543</td><td>HII</td></tr>\n",
       "<tr><td>6</td><td>210</td><td>zr</td><td>806203100060348</td><td>5.0498178</td><td>59.314207</td><td>524</td><td>46.50968933105469</td><td>7.160523506839386</td><td>1.1875559898120985e-83</td><td>0.2575588822364807</td><td>6.041918640486786e-47</td><td>2042.1167531644894</td><td>0.997343815080248</td><td>0.5563482426780246</td><td>0.48559856224556536</td><td>19.789920806884766</td><td>0.2575588822364807</td><td>19.26156234741211</td><td>20.64164161682129</td><td>-0.4833795726299286</td><td>2.7955565452575684</td><td>0.0395216855981239</td><td>0.06772269663685082</td><td>0.06811441803218907</td><td>0.0</td><td>0.9925813043509061</td><td>0.4743435395361756</td><td>0.755170773369338</td><td>g1</td><td>LPV_SRV_AGB_O</td><td>0.26</td><td>0.0</td><td>1508.9202546000013</td><td>[WM98] HI 4</td><td>0.325771</td><td>HIshell</td></tr>\n",
       "<tr><td>7</td><td>223</td><td>zr</td><td>806203100043707</td><td>5.1028196</td><td>59.3033683</td><td>846</td><td>183.5657958984375</td><td>4.092027802756495</td><td>2.7699515132378596e-33</td><td>0.06768444925546646</td><td>2.4417471025797287e-53</td><td>706.5076598069519</td><td>0.997336033066433</td><td>0.45527247001007415</td><td>0.03107799344601829</td><td>18.26998519897461</td><td>0.06768444925546646</td><td>18.02867889404297</td><td>18.436199188232422</td><td>-0.08256389945745468</td><td>2.0255846977233887</td><td>0.6556572034846606</td><td>0.00495464164525256</td><td>0.44621028454143513</td><td>0.0</td><td>3.491161376945051e-05</td><td>7.532686800371113e-05</td><td>0.3121178611940656</td><td>g2</td><td>LPV_OSARG_AGB</td><td>0.43</td><td>0.0</td><td>647.9578075285723</td><td>[TG2009] 46</td><td>0.402765</td><td>Cl*</td></tr>\n",
       "<tr><td>8</td><td>225</td><td>zr</td><td>806203100023808</td><td>5.0936877</td><td>59.2924891</td><td>837</td><td>250.8328857421875</td><td>5.805118444959325</td><td>2.8923772478964027e-79</td><td>0.0663411021232605</td><td>3.279476378245602e-92</td><td>595.2450708466688</td><td>0.997336033066433</td><td>0.6499944120924113</td><td>0.11774781090422042</td><td>17.924285888671875</td><td>0.0663411021232605</td><td>17.718429565429688</td><td>18.101051330566406</td><td>-0.08680988103151321</td><td>2.4111931324005127</td><td>0.1648871949430961</td><td>0.08247832609554441</td><td>0.1393762811399525</td><td>1.0</td><td>0.13770670138257812</td><td>0.18844878285050726</td><td>0.41509511437103064</td><td>gu</td><td>LPV_OSARG_AGB</td><td>0.61</td><td>0.0</td><td>566.9630815875007</td><td>2MASS J00202240+5917332</td><td>0.640236</td><td>Star</td></tr>\n",
       "<tr><td>9</td><td>265</td><td>zr</td><td>806203100066529</td><td>5.09165</td><td>59.2901438</td><td>773</td><td>222.34878540039062</td><td>35.91494628137346</td><td>0.0</td><td>0.28103023767471313</td><td>2.712575936544611e-142</td><td>981.7766691905116</td><td>0.997336033066433</td><td>0.8081950809576977</td><td>0.0853232104239507</td><td>18.82671546936035</td><td>0.28103023767471313</td><td>18.0853214263916</td><td>19.36758804321289</td><td>-1.1287739276885986</td><td>6.3047895431518555</td><td>0.15591853280147774</td><td>0.041643590614158316</td><td>0.15822709610965577</td><td>0.0</td><td>0.04138464262192909</td><td>0.0402192814511404</td><td>0.5074849917969704</td><td>g2</td><td>LPV_SRV_AGB_C</td><td>0.42</td><td>0.0</td><td>907.1409305400011</td><td>2MASS J00202199+5917244</td><td>0.046452</td><td>Star</td></tr>\n",
       "<tr><td>10</td><td>577</td><td>zr</td><td>806203100052140</td><td>5.0212644</td><td>59.3011632</td><td>783</td><td>60.10373306274414</td><td>3.998457426038887</td><td>2.2769111621165645e-29</td><td>0.15452392399311066</td><td>3.505039931858041e-89</td><td>514.2583783763998</td><td>0.997336033066433</td><td>0.6515261216701516</td><td>0.16769798658123697</td><td>19.517370223999023</td><td>0.15452392399311066</td><td>19.09247589111328</td><td>20.017894744873047</td><td>-0.21818828582763672</td><td>2.032727003097534</td><td>0.049349970380050893</td><td>0.005259658863852333</td><td>0.12249745592155693</td><td>0.0</td><td>0.006811675726030253</td><td>0.0011194458496702753</td><td>0.8733254051966455</td><td>g2</td><td>LPV_SRV_AGB_O</td><td>0.34</td><td>0.0</td><td>503.96718363333395</td><td>[LSG2012] 8</td><td>0.147983</td><td>Star</td></tr>\n",
       "<tr><td>11</td><td>733</td><td>zr</td><td>806203100057033</td><td>5.0133864</td><td>59.3004449</td><td>644</td><td>47.15753936767578</td><td>10.91712643358271</td><td>9.033268359147809e-225</td><td>0.3357001841068268</td><td>1.4407762205346972e-133</td><td>868.9264958028494</td><td>0.997336033066433</td><td>0.8203881251479962</td><td>0.054485873095920186</td><td>19.853900909423828</td><td>0.3357001841068268</td><td>19.251270294189453</td><td>20.564197540283203</td><td>-0.7939808368682861</td><td>3.56219482421875</td><td>0.2585879417638937</td><td>0.008728960100307511</td><td>0.2566573552598427</td><td>0.0</td><td>0.0006931416281599212</td><td>0.0007035740202432361</td><td>0.4961834561717091</td><td>g2</td><td>LPV_OSARG_AGB</td><td>0.33</td><td>0.0</td><td>755.950775450001</td><td>2MASS J00200322+5918013</td><td>0.282308</td><td>Star</td></tr>\n",
       "<tr><td>12</td><td>1169</td><td>zr</td><td>806203100043276</td><td>5.0065292</td><td>59.3258936</td><td>323</td><td>26.67962646484375</td><td>4.066853042940797</td><td>5.4705695548867264e-18</td><td>0.31662634015083313</td><td>2.6338195470790243e-32</td><td>594.3204539600974</td><td>0.997343815080248</td><td>0.5172072922397014</td><td>0.10212753892270537</td><td>20.73078727722168</td><td>0.31662634015083313</td><td>19.900371551513672</td><td>21.44940757751465</td><td>-0.2951158583164215</td><td>2.0818557739257812</td><td>0.013330406904582514</td><td>0.01702011434139802</td><td>0.016295705549296807</td><td>1.0</td><td>0.7055015058539564</td><td>0.5148270219617495</td><td>0.6011042546412189</td><td>g1</td><td>LPV_SRV_AGB_C</td><td>0.32</td><td>0.0</td><td>565.8450954750006</td><td>2MASS J00200155+5919332</td><td>0.047423</td><td>C*</td></tr>\n",
       "<tr><td>13</td><td>1259</td><td>zr</td><td>806203100052030</td><td>4.9902651</td><td>59.3098018</td><td>776</td><td>76.14414978027344</td><td>12.64776812461389</td><td>0.0</td><td>0.258216917514801</td><td>4.921772867293347e-90</td><td>595.2450708466688</td><td>0.997336033066433</td><td>0.6449320370661895</td><td>0.15672682858420706</td><td>19.392343521118164</td><td>0.258216917514801</td><td>18.893497467041016</td><td>20.062400817871094</td><td>-0.6607047915458679</td><td>3.726458787918091</td><td>0.0866635374439143</td><td>0.10843782706678352</td><td>0.095448189013291</td><td>0.0</td><td>0.6846732291353879</td><td>0.5898899729679574</td><td>0.5490393466806511</td><td>g1</td><td>LPV_OSARG_AGB</td><td>0.42</td><td>0.0</td><td>647.9578075285723</td><td>2MASS J00195768+5918349</td><td>0.317364</td><td>Star</td></tr>\n",
       "</table><style>table.dataTable {clear: both; width: auto !important; margin: 0 !important;}\n",
       ".dataTables_info, .dataTables_length, .dataTables_filter, .dataTables_paginate{\n",
       "display: inline-block; margin-right: 1em; }\n",
       ".paginate_button { margin-right: 5px; }\n",
       "</style>\n",
       "<script>\n",
       "\n",
       "var astropy_sort_num = function(a, b) {\n",
       "    var a_num = parseFloat(a);\n",
       "    var b_num = parseFloat(b);\n",
       "\n",
       "    if (isNaN(a_num) && isNaN(b_num))\n",
       "        return ((a < b) ? -1 : ((a > b) ? 1 : 0));\n",
       "    else if (!isNaN(a_num) && !isNaN(b_num))\n",
       "        return ((a_num < b_num) ? -1 : ((a_num > b_num) ? 1 : 0));\n",
       "    else\n",
       "        return isNaN(a_num) ? -1 : 1;\n",
       "}\n",
       "\n",
       "require.config({paths: {\n",
       "    datatables: 'https://cdn.datatables.net/1.10.12/js/jquery.dataTables.min'\n",
       "}});\n",
       "require([\"datatables\"], function(){\n",
       "    console.log(\"$('#table2509136537776-790608').dataTable()\");\n",
       "    \n",
       "jQuery.extend( jQuery.fn.dataTableExt.oSort, {\n",
       "    \"optionalnum-asc\": astropy_sort_num,\n",
       "    \"optionalnum-desc\": function (a,b) { return -astropy_sort_num(a, b); }\n",
       "});\n",
       "\n",
       "    $('#table2509136537776-790608').dataTable({\n",
       "        order: [],\n",
       "        pageLength: 50,\n",
       "        lengthMenu: [[10, 25, 50, 100, 500, 1000, -1], [10, 25, 50, 100, 500, 1000, 'All']],\n",
       "        pagingType: \"full_numbers\",\n",
       "        columnDefs: [{targets: [0, 1, 4, 5, 6, 7, 8, 9, 10, 11, 12, 13, 14, 15, 16, 17, 18, 19, 20, 21, 22, 23, 24, 25, 26, 27, 28, 31, 32, 33, 35], type: \"optionalnum\"}]\n",
       "    });\n",
       "});\n",
       "</script>\n"
      ],
      "text/plain": [
       "<IPython.core.display.HTML object>"
      ]
     },
     "execution_count": 6,
     "metadata": {},
     "output_type": "execute_result"
    }
   ],
   "source": [
    "obj_zr[np.isnan(obj_zr['dist'])==0].show_in_notebook()"
   ]
  },
  {
   "cell_type": "code",
   "execution_count": 7,
   "id": "293d1cf5",
   "metadata": {},
   "outputs": [
    {
     "data": {
      "text/html": [
       "<i>QTable length=3</i>\n",
       "<table id=\"table2509136536096-90618\" class=\"table-striped table-bordered table-condensed\">\n",
       "<thead><tr><th>idx</th><th>SourceID</th><th>filter</th><th>OID</th><th>RA</th><th>DEC</th><th>numobs</th><th>DELTA_SIG_MAG</th><th>CONST_CHI2</th><th>sf</th><th>rmse</th><th>LNP_SIG</th><th>period</th><th>period_c</th><th>power</th><th>power_c</th><th>mean</th><th>std</th><th>min</th><th>max</th><th>sigma_mean</th><th>sigma_std</th><th>gaussian1_err</th><th>gaussian2_err</th><th>gumbel_err</th><th>g2_flag</th><th>Pg1g2</th><th>Pgug2</th><th>Pg1gu</th><th>shape</th><th>upsilon_class</th><th>upsilon_prob</th><th>upsilon_flag</th><th>upsilon_period</th><th>identifier</th><th>dist</th><th>type</th></tr></thead>\n",
       "<tr><td>0</td><td>73</td><td>zg</td><td>806103100048650</td><td>5.0758587</td><td>59.2958026</td><td>97</td><td>64.1142578125</td><td>8.935053528431245</td><td>1.364237212874404e-43</td><td>0.23146717250347137</td><td>1.5286033678611772e-06</td><td>1.0323211002809742</td><td>0.9972896868175051</td><td>0.35458712707540346</td><td>0.17918306600135617</td><td>20.327228546142578</td><td>0.23146717250347137</td><td>19.153165817260742</td><td>20.794662475585938</td><td>-0.3369257152080536</td><td>3.0768370628356934</td><td>0.009533430482035768</td><td>0.01393656832479377</td><td>0.05977027922886222</td><td>0.0</td><td>0.8494752978458127</td><td>0.031768959029891186</td><td>0.986429830676151</td><td>g1</td><td>CEPH_Other</td><td>0.49</td><td>1.0</td><td>2.150138196410262</td><td>[HL90]  46</td><td>1.931646</td><td>HII</td></tr>\n",
       "<tr><td>1</td><td>77</td><td>zg</td><td>806103100029923</td><td>5.0869784</td><td>59.2997881</td><td>258</td><td>80.47639465332031</td><td>16.358047581022113</td><td>8.308402166762659e-291</td><td>0.31344184279441833</td><td>2.3170100655180286e-16</td><td>26.55360081018743</td><td>1.0000143393856216</td><td>0.29023605619128945</td><td>0.005352919590317105</td><td>20.02450942993164</td><td>0.31344184279441833</td><td>18.832887649536133</td><td>20.759401321411133</td><td>-0.705572783946991</td><td>4.285964488983154</td><td>0.012970672357106496</td><td>0.004716468677232082</td><td>0.04254821537149007</td><td>1.0</td><td>0.07510737992757988</td><td>0.007362311539822919</td><td>0.9301277856779838</td><td>g1</td><td>CEPH_Other</td><td>0.42</td><td>0.0</td><td>26.525643273684214</td><td>[WWW2005] XA 11</td><td>0.385353</td><td>X</td></tr>\n",
       "<tr><td>2</td><td>90</td><td>zg</td><td>806103100049624</td><td>5.0834336</td><td>59.3114529</td><td>324</td><td>188.7042694091797</td><td>29.36702577363452</td><td>0.0</td><td>0.29480019211769104</td><td>3.044761670180407e-168</td><td>2043.2292424728973</td><td>1.0000143393856216</td><td>0.9125489407249586</td><td>0.43350509622734634</td><td>18.898109436035156</td><td>0.29480019211769104</td><td>18.297286987304688</td><td>19.611181259155273</td><td>-1.0131325721740723</td><td>5.650538921356201</td><td>0.23967239977166246</td><td>0.05805681475716322</td><td>0.1527728485996977</td><td>0.0</td><td>0.034221739839404575</td><td>0.08173142602727546</td><td>0.2834658939107344</td><td>g2</td><td>LPV_OSARG_AGB</td><td>0.31</td><td>0.0</td><td>1511.9616666</td><td>LGGS J002020.03+591841.2</td><td>0.158893</td><td>Em*</td></tr>\n",
       "</table><style>table.dataTable {clear: both; width: auto !important; margin: 0 !important;}\n",
       ".dataTables_info, .dataTables_length, .dataTables_filter, .dataTables_paginate{\n",
       "display: inline-block; margin-right: 1em; }\n",
       ".paginate_button { margin-right: 5px; }\n",
       "</style>\n",
       "<script>\n",
       "\n",
       "var astropy_sort_num = function(a, b) {\n",
       "    var a_num = parseFloat(a);\n",
       "    var b_num = parseFloat(b);\n",
       "\n",
       "    if (isNaN(a_num) && isNaN(b_num))\n",
       "        return ((a < b) ? -1 : ((a > b) ? 1 : 0));\n",
       "    else if (!isNaN(a_num) && !isNaN(b_num))\n",
       "        return ((a_num < b_num) ? -1 : ((a_num > b_num) ? 1 : 0));\n",
       "    else\n",
       "        return isNaN(a_num) ? -1 : 1;\n",
       "}\n",
       "\n",
       "require.config({paths: {\n",
       "    datatables: 'https://cdn.datatables.net/1.10.12/js/jquery.dataTables.min'\n",
       "}});\n",
       "require([\"datatables\"], function(){\n",
       "    console.log(\"$('#table2509136536096-90618').dataTable()\");\n",
       "    \n",
       "jQuery.extend( jQuery.fn.dataTableExt.oSort, {\n",
       "    \"optionalnum-asc\": astropy_sort_num,\n",
       "    \"optionalnum-desc\": function (a,b) { return -astropy_sort_num(a, b); }\n",
       "});\n",
       "\n",
       "    $('#table2509136536096-90618').dataTable({\n",
       "        order: [],\n",
       "        pageLength: 50,\n",
       "        lengthMenu: [[10, 25, 50, 100, 500, 1000, -1], [10, 25, 50, 100, 500, 1000, 'All']],\n",
       "        pagingType: \"full_numbers\",\n",
       "        columnDefs: [{targets: [0, 1, 4, 5, 6, 7, 8, 9, 10, 11, 12, 13, 14, 15, 16, 17, 18, 19, 20, 21, 22, 23, 24, 25, 26, 27, 28, 31, 32, 33, 35], type: \"optionalnum\"}]\n",
       "    });\n",
       "});\n",
       "</script>\n"
      ],
      "text/plain": [
       "<IPython.core.display.HTML object>"
      ]
     },
     "execution_count": 7,
     "metadata": {},
     "output_type": "execute_result"
    }
   ],
   "source": [
    "obj_zg[np.isnan(obj_zg['dist'])==0].show_in_notebook()"
   ]
  },
  {
   "cell_type": "code",
   "execution_count": 8,
   "id": "a8d65b24",
   "metadata": {
    "scrolled": false
   },
   "outputs": [
    {
     "data": {
      "text/html": [
       "<i>QTable length=60</i>\n",
       "<table id=\"table2509136539456-277\" class=\"table-striped table-bordered table-condensed\">\n",
       "<thead><tr><th>idx</th><th>SourceID</th><th>filter</th><th>OID</th><th>RA</th><th>DEC</th><th>numobs</th><th>DELTA_SIG_MAG</th><th>CONST_CHI2</th><th>sf</th><th>rmse</th><th>LNP_SIG</th><th>period</th><th>period_c</th><th>power</th><th>power_c</th><th>mean</th><th>std</th><th>min</th><th>max</th><th>sigma_mean</th><th>sigma_std</th><th>gaussian1_err</th><th>gaussian2_err</th><th>gumbel_err</th><th>g2_flag</th><th>Pg1g2</th><th>Pgug2</th><th>Pg1gu</th><th>shape</th><th>upsilon_class</th><th>upsilon_prob</th><th>upsilon_flag</th><th>upsilon_period</th><th>identifier</th><th>dist</th><th>type</th></tr></thead>\n",
       "<tr><td>0</td><td>34</td><td>zr</td><td>1809211300070171</td><td>5.0727284</td><td>59.3098249</td><td>31</td><td>81.30490112304688</td><td>7.451470886438102</td><td>2.3595134061374747e-11</td><td>0.1517023891210556</td><td>0.11556026631576935</td><td>0.1240045534413452</td><td>2800.0</td><td>0.43705000916041337</td><td>0.1948276490633615</td><td>19.289358139038086</td><td>0.1517023891210556</td><td>18.910890579223633</td><td>19.555213928222656</td><td>-0.28222447633743286</td><td>2.735348701477051</td><td>0.44073983462560923</td><td>0.5540522748460567</td><td>0.46764695860749705</td><td>1.0</td><td>0.6894512650780728</td><td>0.6300261912877945</td><td>0.5301494257802675</td><td>g1</td><td>DSCT</td><td>0.69</td><td>1.0</td><td>0.044120282725895896</td><td>NVSS J002017+591841</td><td>1.176509</td><td>Radio</td></tr>\n",
       "<tr><td>1</td><td>34</td><td>zr</td><td>806203100060368</td><td>5.0725296</td><td>59.3098467</td><td>262</td><td>80.29171752929688</td><td>7.117226100332736</td><td>2.2607034617993476e-41</td><td>0.17434047162532806</td><td>0.008108579964863858</td><td>0.17204026613816514</td><td>0.997343815080248</td><td>0.15900530649983438</td><td>0.00012080295156057017</td><td>19.31197738647461</td><td>0.17434047162532806</td><td>18.88072967529297</td><td>19.74237823486328</td><td>-0.3230542242527008</td><td>2.718236207962036</td><td>0.019308752196863933</td><td>0.009141940373133643</td><td>0.07060550749620839</td><td>1.0</td><td>0.12415968294451318</td><td>0.010007429886732089</td><td>0.9456572622860415</td><td>g1</td><td>DSCT</td><td>0.88</td><td>1.0</td><td>0.17204168302675601</td><td>NVSS J002017+591841</td><td>1.176509</td><td>Radio</td></tr>\n",
       "<tr><td>2</td><td>55</td><td>zr</td><td>806203100043559</td><td>5.0723453</td><td>59.3111226</td><td>855</td><td>1322.654541015625</td><td>28.139266597643587</td><td>0.0</td><td>0.09289497882127762</td><td>1.0401704349953329e-06</td><td>2800.0</td><td>0.997336033066433</td><td>0.09657835576966833</td><td>0.8283801394042668</td><td>16.962669372558594</td><td>0.09289497882127762</td><td>16.404556274414062</td><td>17.23210906982422</td><td>-0.1622304767370224</td><td>5.306269645690918</td><td>0.009358681227241613</td><td>0.001534619994822164</td><td>0.12127946984456363</td><td>1.0</td><td>0.015938986578472036</td><td>9.779189688419176e-05</td><td>0.9984113822662893</td><td>g1</td><td>NonVar</td><td>0.79</td><td>1.0</td><td>2267.852326350003</td><td>[BGR2000] Br 1</td><td>0.17367</td><td>HII</td></tr>\n",
       "<tr><td>3</td><td>55</td><td>zr</td><td>1809211300066648</td><td>5.0724769</td><td>59.3111324</td><td>77</td><td>649.3062133789062</td><td>17.884333922325375</td><td>9.82310740598561e-98</td><td>0.06559567898511887</td><td>0.00021590831277816652</td><td>0.10674401734567869</td><td>2800.0</td><td>0.34204672407082565</td><td>0.021634072466851725</td><td>16.935136795043945</td><td>0.06559567898511887</td><td>16.740747451782227</td><td>17.062875747680664</td><td>-0.09860587120056152</td><td>4.204975605010986</td><td>2.648841206633338</td><td>0.4319534830074969</td><td>2.0249945408637027</td><td>1.0</td><td>0.015766331876517103</td><td>0.026698985916089324</td><td>0.3660444451778835</td><td>gu</td><td>DSCT</td><td>0.45</td><td>1.0</td><td>0.0964498720601044</td><td>[BGR2000] Br 1</td><td>0.17367</td><td>HII</td></tr>\n",
       "<tr><td>4</td><td>64</td><td>zr</td><td>806203100060465</td><td>5.0739788</td><td>59.2961369</td><td>791</td><td>161.1138458251953</td><td>3.2559349557720485</td><td>1.0582204793748586e-14</td><td>0.07327186316251755</td><td>0.05186990648947234</td><td>0.10460713412988666</td><td>0.997336033066433</td><td>0.052003114693483725</td><td>0.014565343545433386</td><td>18.635385513305664</td><td>0.07327186316251755</td><td>18.284832000732422</td><td>18.8492374420166</td><td>-0.08440251648426056</td><td>1.8084462881088257</td><td>0.10513550464406803</td><td>0.008221874799986494</td><td>0.4474513471247722</td><td>1.0</td><td>0.0036880283230630306</td><td>0.00020599161789369713</td><td>0.9623955674043138</td><td>g1</td><td>NonVar</td><td>0.59</td><td>1.0</td><td>0.07596731740026137</td><td>[LL2015] 27</td><td>0.065818</td><td>Cl*</td></tr>\n",
       "<tr><td>5</td><td>65</td><td>zr</td><td>806203100043833</td><td>5.0716716</td><td>59.2959753</td><td>843</td><td>324.9570007324219</td><td>3.601553304065856</td><td>6.578584336175542e-22</td><td>0.03792821615934372</td><td>1.8610094416490785e-08</td><td>2800.0</td><td>0.997336033066433</td><td>0.1164967305946571</td><td>0.8300275624372495</td><td>17.28755760192871</td><td>0.03792821615934372</td><td>17.128036499023438</td><td>17.391010284423828</td><td>-0.029083840548992157</td><td>1.8962376117706299</td><td>1.0915797822642355</td><td>0.06661462373404914</td><td>3.064348914344786</td><td>1.0</td><td>0.0022534176697209807</td><td>0.0002881254821144319</td><td>0.9016753593573754</td><td>g1</td><td>NonVar</td><td>0.89</td><td>0.0</td><td>4535.704652700006</td><td>[LL2015] 24</td><td>0.032157</td><td>Cl*</td></tr>\n",
       "<tr><td>6</td><td>73</td><td>zr</td><td>806203100052194</td><td>5.0757586</td><td>59.2957439</td><td>570</td><td>79.02552795410156</td><td>4.492957767364811</td><td>2.0511315256049188e-32</td><td>0.14209401607513428</td><td>0.0013469039832887343</td><td>0.49968099722233067</td><td>0.9973357126290449</td><td>0.08833389447521292</td><td>0.056859390811042805</td><td>19.436952590942383</td><td>0.14209401607513428</td><td>18.890762329101562</td><td>19.732688903808594</td><td>-0.203139990568161</td><td>2.1489360332489014</td><td>0.03349849833893599</td><td>0.00722595301612069</td><td>0.13278539316689061</td><td>1.0</td><td>0.027289194603853928</td><td>0.0017941669502375968</td><td>0.9552115844818286</td><td>g1</td><td>RRL_ab</td><td>0.6</td><td>1.0</td><td>0.49969300037506753</td><td>[HL90]  46</td><td>1.871228</td><td>HII</td></tr>\n",
       "<tr><td>7</td><td>73</td><td>zr</td><td>1809211300070260</td><td>5.0758365</td><td>59.2957429</td><td>57</td><td>112.72003936767578</td><td>7.641255935664475</td><td>2.6224137045603225e-20</td><td>0.14378239214420319</td><td>0.004155668882964571</td><td>0.5107696872476819</td><td>2800.0</td><td>0.36194713151385455</td><td>0.2857524832115558</td><td>19.42538070678711</td><td>0.14378239214420319</td><td>18.705381393432617</td><td>19.754161834716797</td><td>-0.24609330296516418</td><td>2.7871596813201904</td><td>0.05237624018603771</td><td>0.033067253334624014</td><td>0.0838037593413743</td><td>0.0</td><td>0.2123480498819138</td><td>0.0878241330614129</td><td>0.7248852716643804</td><td>g1</td><td>DSCT</td><td>0.5</td><td>1.0</td><td>0.040488499208565835</td><td>[HL90]  46</td><td>1.871228</td><td>HII</td></tr>\n",
       "<tr><td>8</td><td>85</td><td>zr</td><td>1809211300054333</td><td>5.0847597</td><td>59.3104587</td><td>77</td><td>210.5140838623047</td><td>7.257247628434382</td><td>1.8792777797088402e-24</td><td>0.08327183872461319</td><td>0.04580481289680203</td><td>1.075626026122762</td><td>2800.0</td><td>0.23370035419726992</td><td>0.11012455621234288</td><td>18.21809959411621</td><td>0.08327183872461319</td><td>18.04701805114746</td><td>18.45287322998047</td><td>-0.14076875150203705</td><td>2.686875104904175</td><td>1.7079225331819514</td><td>0.36949519586748353</td><td>1.277686316325081</td><td>1.0</td><td>0.02744574728015836</td><td>0.04828868949816345</td><td>0.35573390576367914</td><td>gu</td><td>EB_ED</td><td>0.54</td><td>1.0</td><td>0.031269996881692554</td><td>LGGS J002020.35+591837.6</td><td>0.079779</td><td>Em*</td></tr>\n",
       "<tr><td>9</td><td>85</td><td>zr</td><td>806203100043574</td><td>5.0847668</td><td>59.3104637</td><td>851</td><td>318.66693115234375</td><td>7.3033749996561035</td><td>9.744796541338584e-132</td><td>0.0903315320611</td><td>4.085919146039346e-13</td><td>0.9981261378154066</td><td>0.997336033066433</td><td>0.15714517787338797</td><td>0.08743339411817201</td><td>18.225955963134766</td><td>0.0903315320611</td><td>17.847694396972656</td><td>18.63309669494629</td><td>-0.14767564833164215</td><td>2.711042642593384</td><td>0.09595555800822879</td><td>0.004053642434541914</td><td>0.030528423946906576</td><td>1.0</td><td>0.001083804421499579</td><td>0.010517594610956915</td><td>0.07690978566166085</td><td>gu</td><td>EB_ED</td><td>0.55</td><td>1.0</td><td>0.998174439414614</td><td>LGGS J002020.35+591837.6</td><td>0.079779</td><td>Em*</td></tr>\n",
       "<tr><td>10</td><td>93</td><td>zr</td><td>806203100066251</td><td>5.0769511</td><td>59.294592</td><td>346</td><td>68.73551177978516</td><td>4.578026752037364</td><td>6.072773443699597e-21</td><td>0.17567609250545502</td><td>9.471907040467964e-09</td><td>0.9972044705384087</td><td>0.997336033066433</td><td>0.24716652437194328</td><td>0.9216781748826277</td><td>19.9140625</td><td>0.17567609250545502</td><td>18.935867309570312</td><td>20.254776000976562</td><td>-0.2287517637014389</td><td>2.182995319366455</td><td>0.013104167554578503</td><td>0.0020539705408906556</td><td>0.053964282022245555</td><td>1.0</td><td>0.014584722176922305</td><td>0.0008804966467886866</td><td>0.9592029117750571</td><td>g1</td><td>DSCT</td><td>0.55</td><td>1.0</td><td>0.08869365166898073</td><td>WBBH J002018+591740.9</td><td>1.723837</td><td>Radio</td></tr>\n",
       "<tr><td>11</td><td>101</td><td>zr</td><td>806203100060469</td><td>5.0829101</td><td>59.2955233</td><td>299</td><td>47.72513961791992</td><td>10.012134507696917</td><td>9.944106013601984e-94</td><td>0.3292207717895508</td><td>6.3315589333178395e-06</td><td>3.237061430199582</td><td>0.997343815080248</td><td>0.20222681981448792</td><td>0.003824384709900986</td><td>20.109691619873047</td><td>0.3292207717895508</td><td>19.190366744995117</td><td>20.933956146240234</td><td>-0.6483118534088135</td><td>3.3819003105163574</td><td>0.01667132433143344</td><td>0.007024707051209122</td><td>0.042930877646234315</td><td>0.0</td><td>0.09954108788515459</td><td>0.015872166828430956</td><td>0.8823700401047881</td><td>g2</td><td>RRL_e</td><td>0.48</td><td>1.0</td><td>0.2494770330008269</td><td>[HL90]  62</td><td>0.799991</td><td>HII</td></tr>\n",
       "<tr><td>12</td><td>101</td><td>zr</td><td>1809211300054548</td><td>5.0828782</td><td>59.2954761</td><td>29</td><td>38.85203552246094</td><td>10.202804828115438</td><td>2.3652011057610786e-17</td><td>0.3535028398036957</td><td>0.09111718935640788</td><td>0.10972229154028096</td><td>2800.0</td><td>0.4684699412024066</td><td>0.15801675968378748</td><td>20.103025436401367</td><td>0.3535028398036957</td><td>19.474882125854492</td><td>20.813602447509766</td><td>-0.7779662609100342</td><td>3.415788173675537</td><td>0.27195924774075786</td><td>0.2326292148804981</td><td>0.2646098512745472</td><td>0.0</td><td>0.36650401140786637</td><td>0.3844221018769174</td><td>0.48605051332110827</td><td>gu</td><td>DSCT</td><td>0.52</td><td>1.0</td><td>0.03130493963572641</td><td>[HL90]  62</td><td>0.799991</td><td>HII</td></tr>\n",
       "<tr><td>13</td><td>119</td><td>zr</td><td>1809211300062053</td><td>5.087689</td><td>59.2962526</td><td>75</td><td>156.35263061523438</td><td>9.776231295383994</td><td>1.7492854899014464e-39</td><td>0.1437961459159851</td><td>0.03521812892091645</td><td>0.994475535843111</td><td>2800.0</td><td>0.2444035202545068</td><td>0.8066272029839165</td><td>18.902803421020508</td><td>0.1437961459159851</td><td>18.49131965637207</td><td>19.303564071655273</td><td>-0.3089387118816376</td><td>3.1523540019989014</td><td>0.619971207044103</td><td>0.45453532554740694</td><td>0.6695546553568272</td><td>1.0</td><td>0.2787415951510045</td><td>0.2424958613507895</td><td>0.539117557089527</td><td>g1</td><td>DSCT</td><td>0.8</td><td>1.0</td><td>0.09328747016078061</td><td>LGGS J002021.06+591746.6</td><td>0.095465</td><td>Em*</td></tr>\n",
       "<tr><td>14</td><td>119</td><td>zr</td><td>806203100063329</td><td>5.0876702</td><td>59.2962209</td><td>813</td><td>188.9059600830078</td><td>10.5547257463263</td><td>5.101302486374525e-243</td><td>0.15279802680015564</td><td>0.00011454211354124104</td><td>383.73478252936764</td><td>0.997336033066433</td><td>0.07920472837794067</td><td>0.5542079242818655</td><td>18.85187530517578</td><td>0.15279802680015564</td><td>18.2545223236084</td><td>19.31301498413086</td><td>-0.3280152380466461</td><td>3.296431303024292</td><td>0.004627642564454676</td><td>0.005003353144698128</td><td>0.03480407296442199</td><td>1.0</td><td>0.5447811973544308</td><td>0.012300836017705596</td><td>0.9918732598413081</td><td>g1</td><td>NonVar</td><td>0.73</td><td>1.0</td><td>0.03974017078784592</td><td>LGGS J002021.06+591746.6</td><td>0.095465</td><td>Em*</td></tr>\n",
       "<tr><td>15</td><td>2213</td><td>zr</td><td>1809211300076988</td><td>5.0775472</td><td>59.3150577</td><td>28</td><td>116.13783264160156</td><td>9.113675723309395</td><td>3.2300164530017266e-14</td><td>0.13227054476737976</td><td>0.008559766609200478</td><td>0.1032704940004897</td><td>2800.0</td><td>0.5753365315946781</td><td>0.09327517098597062</td><td>18.79161262512207</td><td>0.13227054476737976</td><td>18.571880340576172</td><td>19.052783966064453</td><td>-0.2755225598812103</td><td>3.001413345336914</td><td>0.88551130489715</td><td>1.4724198821797954</td><td>0.8822880164226091</td><td>1.0</td><td>0.9730198626298003</td><td>0.9757372291608835</td><td>0.4981427724604722</td><td>gu</td><td>DSCT</td><td>0.63</td><td>1.0</td><td>0.09360318446547063</td><td>[TG2009] 32</td><td>1.137111</td><td>Cl*</td></tr>\n",
       "<tr><td>16</td><td>2214</td><td>zr</td><td>1809211300077099</td><td>5.0787745</td><td>59.3148923</td><td>50</td><td>270.8092041015625</td><td>29.62204061908296</td><td>3.092884167623384e-121</td><td>0.20303958654403687</td><td>0.0010205985562411612</td><td>382.40850131579566</td><td>2800.0</td><td>0.43501564771564366</td><td>0.9489906505592601</td><td>18.72511100769043</td><td>0.20303958654403687</td><td>18.023723602294922</td><td>19.34270477294922</td><td>-0.6901479959487915</td><td>5.535651683807373</td><td>0.04040983814797587</td><td>0.060512716276683455</td><td>0.02090826522771624</td><td>1.0</td><td>0.8748270789986654</td><td>1.0</td><td>0.20212616702218045</td><td>gu</td><td>DSCT</td><td>0.55</td><td>1.0</td><td>0.05108777026684107</td><td>[TG2009] 32</td><td>1.207904</td><td>Cl*</td></tr>\n",
       "<tr><td>17</td><td>123</td><td>zr</td><td>806203100066885</td><td>5.0782005</td><td>59.3150274</td><td>484</td><td>389.3548583984375</td><td>24.614592493298147</td><td>0.0</td><td>0.17248578369617462</td><td>0.00011352108842657333</td><td>371.73957226279913</td><td>0.9973722795975608</td><td>0.12293557692654444</td><td>0.5762657319413703</td><td>18.69409942626953</td><td>0.17248578369617462</td><td>17.610103607177734</td><td>19.07080078125</td><td>-0.477393239736557</td><td>5.04367208480835</td><td>0.014451796904011589</td><td>0.0016434374547442568</td><td>0.06562892357883669</td><td>1.0</td><td>0.007743851602952101</td><td>0.00038208405157824643</td><td>0.9680542852084253</td><td>g1</td><td>DSCT</td><td>0.47</td><td>1.0</td><td>0.060388125280659864</td><td>[TG2009] 32</td><td>0.329279</td><td>Cl*</td></tr>\n",
       "<tr><td>18</td><td>128</td><td>zr</td><td>806203100051985</td><td>5.0802628</td><td>59.3150926</td><td>827</td><td>493.1247253417969</td><td>22.28174852955496</td><td>0.0</td><td>0.13863849639892578</td><td>0.00018956933229283818</td><td>365.196712888864</td><td>0.997336033066433</td><td>0.07470724952421111</td><td>0.5098066049501832</td><td>18.16891098022461</td><td>0.13863849639892578</td><td>17.472774505615234</td><td>18.79983139038086</td><td>-0.35995468497276306</td><td>4.759553909301758</td><td>0.021786847115272328</td><td>0.006299797262173097</td><td>0.02345751807865187</td><td>0.0</td><td>0.048277409509693836</td><td>0.04183023555934906</td><td>0.5375692987665113</td><td>g2</td><td>NonVar</td><td>0.75</td><td>1.0</td><td>0.03745451781352452</td><td>[BGR2000] Br 2</td><td>1.552502</td><td>SNR</td></tr>\n",
       "<tr><td>19</td><td>128</td><td>zr</td><td>1809211300076065</td><td>5.080435</td><td>59.3151386</td><td>77</td><td>361.19036865234375</td><td>17.331036691265922</td><td>1.1337936299363972e-93</td><td>0.12107055634260178</td><td>0.0024641887952215557</td><td>29.60907529731348</td><td>2800.0</td><td>0.29517355583794247</td><td>0.49695454337938844</td><td>18.190528869628906</td><td>0.12107055634260178</td><td>17.834491729736328</td><td>18.50570297241211</td><td>-0.30350762605667114</td><td>4.169249534606934</td><td>0.16130074083929058</td><td>0.05679803970848703</td><td>0.07516762291519417</td><td>1.0</td><td>0.07061249038465456</td><td>0.29426193153932334</td><td>0.1675914969466089</td><td>gu</td><td>NonVar</td><td>0.38</td><td>1.0</td><td>0.03754219703605329</td><td>[BGR2000] Br 2</td><td>1.552502</td><td>SNR</td></tr>\n",
       "<tr><td>20</td><td>141</td><td>zr</td><td>806203100064672</td><td>5.0804015</td><td>59.2918835</td><td>563</td><td>47.7138557434082</td><td>2.837912292496588</td><td>1.2775006845861716e-06</td><td>0.15898017585277557</td><td>0.0010072120124919586</td><td>0.10302467673374088</td><td>0.997336033066433</td><td>0.08988945229206773</td><td>0.004006204494410736</td><td>19.90380096435547</td><td>0.15898017585277557</td><td>19.25069236755371</td><td>20.446632385253906</td><td>-0.17712154984474182</td><td>1.7126249074935913</td><td>0.029604375440233813</td><td>0.016800546434069658</td><td>0.05071619878783228</td><td>0.0</td><td>0.17436508115380944</td><td>0.06278352576282298</td><td>0.7527924673434705</td><td>g1</td><td>NonVar</td><td>0.71</td><td>1.0</td><td>0.2525588647864584</td><td>[TG2009] 34</td><td>0.391185</td><td>Cl*</td></tr>\n",
       "<tr><td>21</td><td>156</td><td>zr</td><td>806203100043860</td><td>5.091073</td><td>59.2947487</td><td>814</td><td>218.2010498046875</td><td>10.85387001193317</td><td>7.931140869243739e-252</td><td>0.13910870254039764</td><td>0.01733797510979449</td><td>0.1370829635494536</td><td>0.9973357126290449</td><td>0.056533926354277515</td><td>0.003366776885829618</td><td>18.619487762451172</td><td>0.13910870254039764</td><td>18.14854621887207</td><td>19.210121154785156</td><td>-0.30044570565223694</td><td>3.330662965774536</td><td>0.021157628368896363</td><td>0.0015179857177645398</td><td>0.05872534196031227</td><td>1.0</td><td>0.003108161289989253</td><td>0.00040706135692725187</td><td>0.8992902211841758</td><td>g1</td><td>EB_ED</td><td>0.57</td><td>1.0</td><td>1.4398337725365502</td><td>[MAC92]  7</td><td>0.077898</td><td>WR*</td></tr>\n",
       "<tr><td>22</td><td>156</td><td>zr</td><td>1809211300054565</td><td>5.0910932</td><td>59.2947247</td><td>77</td><td>227.78717041015625</td><td>18.277216258106623</td><td>1.2542707629881148e-100</td><td>0.1772015243768692</td><td>0.12438766856418039</td><td>0.10675945557931618</td><td>2800.0</td><td>0.20982694764177634</td><td>0.025523413049413874</td><td>18.76191520690918</td><td>0.1772015243768692</td><td>18.19969367980957</td><td>19.331836700439453</td><td>-0.5050469040870667</td><td>4.33850622177124</td><td>0.051512857391517855</td><td>0.006372316267342911</td><td>0.04412252101879253</td><td>1.0</td><td>0.009145131616280167</td><td>0.01241332109807447</td><td>0.42167778317637983</td><td>gu</td><td>DSCT</td><td>0.71</td><td>1.0</td><td>0.17137797465497204</td><td>[MAC92]  7</td><td>0.077898</td><td>WR*</td></tr>\n",
       "<tr><td>23</td><td>184</td><td>zr</td><td>806203100057067</td><td>5.0986803</td><td>59.2984197</td><td>836</td><td>157.6642608642578</td><td>3.072022020197283</td><td>6.191108235112681e-12</td><td>0.06915326416492462</td><td>0.0037812641610262903</td><td>1.0002392170030603</td><td>0.997336033066433</td><td>0.06269523169363354</td><td>0.6919892739620936</td><td>18.58424949645996</td><td>0.06915326416492462</td><td>18.270721435546875</td><td>18.792484283447266</td><td>-0.07682469487190247</td><td>1.7559287548065186</td><td>0.019629221093921206</td><td>0.022463938523898847</td><td>0.2437664495479488</td><td>1.0</td><td>0.5967487277639831</td><td>0.005107165628544963</td><td>0.9981866857664987</td><td>g1</td><td>LPV_SRV_AGB_O</td><td>0.34</td><td>1.0</td><td>503.96718363333395</td><td>LGGS J002023.71+591754.3</td><td>0.198005</td><td>Em*</td></tr>\n",
       "<tr><td>24</td><td>188</td><td>zr</td><td>1809211300054541</td><td>5.096565</td><td>59.2960794</td><td>63</td><td>81.54412078857422</td><td>5.999066920762994</td><td>2.580716267491893e-14</td><td>0.15728026628494263</td><td>0.030702629074829405</td><td>0.24908728544802458</td><td>2800.0</td><td>0.285665374406183</td><td>0.033388569869670655</td><td>19.32482147216797</td><td>0.15728026628494263</td><td>18.94403076171875</td><td>19.83843421936035</td><td>-0.2793138921260834</td><td>2.476412296295166</td><td>0.03393857802804027</td><td>0.007259343143996346</td><td>0.10994174684072937</td><td>1.0</td><td>0.026842492590986256</td><td>0.002635470029713094</td><td>0.928117645125923</td><td>g1</td><td>NonVar</td><td>0.36</td><td>1.0</td><td>0.032294954729943495</td><td>LGGS J002023.01+591745.3</td><td>1.591953</td><td>Em*</td></tr>\n",
       "<tr><td>25</td><td>188</td><td>zr</td><td>806203100043835</td><td>5.0967209</td><td>59.2961628</td><td>675</td><td>114.33662414550781</td><td>6.822249488577248</td><td>5.66230544183352e-96</td><td>0.16106033325195312</td><td>0.0007378332072886076</td><td>0.10811390131399332</td><td>0.997336033066433</td><td>0.08126113380432977</td><td>0.0014197051261909512</td><td>19.27508544921875</td><td>0.16106033325195312</td><td>18.59071922302246</td><td>19.78403091430664</td><td>-0.28473588824272156</td><td>2.6580467224121094</td><td>0.010558823805932987</td><td>0.0030441351491279156</td><td>0.030902073238360372</td><td>1.0</td><td>0.04800167192099836</td><td>0.00582856625537953</td><td>0.9100586250512276</td><td>g1</td><td>EB_ED</td><td>0.33</td><td>1.0</td><td>0.9990538882599133</td><td>LGGS J002023.01+591745.3</td><td>1.591953</td><td>Em*</td></tr>\n",
       "<tr><td>26</td><td>193</td><td>zr</td><td>806203100060330</td><td>5.0685105</td><td>59.3186011</td><td>805</td><td>79.03072357177734</td><td>6.460538615204287</td><td>5.065793397661079e-100</td><td>0.16443319618701935</td><td>2.4369623950543042e-71</td><td>0.9993136449801462</td><td>0.997336033066433</td><td>0.5579717391425983</td><td>0.1939726549863148</td><td>19.317121505737305</td><td>0.16443319618701935</td><td>18.891313552856445</td><td>19.741039276123047</td><td>-0.2889544367790222</td><td>2.5901620388031006</td><td>0.07189655737302934</td><td>0.028877137386585903</td><td>0.18596785111449013</td><td>1.0</td><td>0.09085284535413984</td><td>0.01431825927637509</td><td>0.8834298845041271</td><td>g1</td><td>NonVar</td><td>0.35</td><td>0.0</td><td>2267.852326350003</td><td>LGGS J002016.48+591906.9</td><td>0.23477</td><td>Em*</td></tr>\n",
       "<tr><td>27</td><td>216</td><td>zr</td><td>1809211300066774</td><td>5.0885335</td><td>59.2906331</td><td>39</td><td>83.77350616455078</td><td>12.945697920792021</td><td>2.935250478529093e-32</td><td>0.23482121527194977</td><td>0.08554515396578577</td><td>0.2940548490190907</td><td>2800.0</td><td>0.378171784765325</td><td>0.06791399181626422</td><td>19.40829849243164</td><td>0.23482121527194977</td><td>18.90219497680664</td><td>19.995803833007812</td><td>-0.6019997000694275</td><td>3.706129789352417</td><td>0.1420996582918274</td><td>0.08289355775529719</td><td>0.19343511865368626</td><td>1.0</td><td>0.1835119987431314</td><td>0.10278729857240199</td><td>0.6528324261351474</td><td>g1</td><td>DSCT</td><td>0.84</td><td>1.0</td><td>0.058429191603529565</td><td>LGGS J002021.25+591725.2</td><td>1.079264</td><td>Em*</td></tr>\n",
       "<tr><td>28</td><td>226</td><td>zr</td><td>1809211300007180</td><td>5.0479271</td><td>59.3138744</td><td>75</td><td>126.75759887695312</td><td>4.204119218498145</td><td>9.635942335615226e-08</td><td>0.08881041407585144</td><td>0.01069520307901307</td><td>0.11005974241877634</td><td>2800.0</td><td>0.2709476752898784</td><td>0.18896982963623019</td><td>18.797449111938477</td><td>0.08881041407585144</td><td>18.544658660888672</td><td>19.073806762695312</td><td>-0.12473457306623459</td><td>2.0481247901916504</td><td>0.6917708659710643</td><td>0.28394345050978914</td><td>1.0133348735484828</td><td>0.0</td><td>0.09469172087579036</td><td>0.045422876280796665</td><td>0.6864924625577693</td><td>g2</td><td>DSCT</td><td>0.47</td><td>1.0</td><td>0.06282832596463014</td><td>[TG2009] 18</td><td>0.323243</td><td>Cl*</td></tr>\n",
       "<tr><td>29</td><td>226</td><td>zr</td><td>806203100043508</td><td>5.0478857</td><td>59.3139339</td><td>834</td><td>161.58700561523438</td><td>4.686407079642151</td><td>7.198735469315074e-49</td><td>0.09410733729600906</td><td>0.0036811334976294256</td><td>0.6998442724324883</td><td>0.997336033066433</td><td>0.06181804835836059</td><td>0.0014127817458442248</td><td>18.77409553527832</td><td>0.09410733729600906</td><td>18.335798263549805</td><td>19.00377655029297</td><td>-0.13111662864685059</td><td>2.1751856803894043</td><td>0.02549471285308197</td><td>0.001991393253766917</td><td>0.13445179780685698</td><td>1.0</td><td>0.0036793665901977413</td><td>0.00013392976244619437</td><td>0.9783270084690782</td><td>g1</td><td>NonVar</td><td>0.61</td><td>1.0</td><td>0.04230870437666159</td><td>[TG2009] 18</td><td>0.323243</td><td>Cl*</td></tr>\n",
       "<tr><td>30</td><td>247</td><td>zr</td><td>806203100043917</td><td>5.0516992</td><td>59.2911242</td><td>837</td><td>337.47552490234375</td><td>4.764995657780227</td><td>1.882328796982791e-49</td><td>0.042287733405828476</td><td>2.8073570789992447e-10</td><td>0.9978626305062529</td><td>0.997336033066433</td><td>0.1357790467602825</td><td>0.25867868512422615</td><td>17.196819305419922</td><td>0.042287733405828476</td><td>17.061634063720703</td><td>17.320056915283203</td><td>-0.03575897216796875</td><td>2.1811859607696533</td><td>0.15828566711202918</td><td>0.03662827227644472</td><td>1.346662944695647</td><td>1.0</td><td>0.031302034819565616</td><td>0.00045058604907688427</td><td>0.9943179275791073</td><td>g1</td><td>NonVar</td><td>0.38</td><td>1.0</td><td>0.997954819075909</td><td>[TG2009] 20</td><td>0.154513</td><td>Cl*</td></tr>\n",
       "<tr><td>31</td><td>247</td><td>zr</td><td>1809211300042739</td><td>5.0516869</td><td>59.2911032</td><td>77</td><td>291.7023010253906</td><td>5.470591459181136</td><td>3.3805250756267615e-14</td><td>0.04035099968314171</td><td>0.001509513456528652</td><td>0.1101363750551017</td><td>2800.0</td><td>0.304978436465815</td><td>0.024812240532524572</td><td>17.18064308166504</td><td>0.04035099968314171</td><td>17.085039138793945</td><td>17.262205123901367</td><td>-0.03881729394197464</td><td>2.324667453765869</td><td>5.467643498393005</td><td>1.679054806321009</td><td>6.557515379759097</td><td>1.0</td><td>0.054240102536639134</td><td>0.03812510289531368</td><td>0.5916880459750903</td><td>g1</td><td>DSCT</td><td>0.7</td><td>1.0</td><td>0.0991858343908628</td><td>[TG2009] 20</td><td>0.154513</td><td>Cl*</td></tr>\n",
       "<tr><td>32</td><td>255</td><td>zr</td><td>806203100052143</td><td>5.1049046</td><td>59.3018114</td><td>768</td><td>726.105712890625</td><td>24.162722819460555</td><td>0.0</td><td>0.13452817499637604</td><td>0.00015980925805132346</td><td>1.0320570038278234</td><td>0.997336033066433</td><td>0.08159211727001876</td><td>0.023363381928109106</td><td>17.983001708984375</td><td>0.13452817499637604</td><td>17.139314651489258</td><td>18.532527923583984</td><td>-0.35124221444129944</td><td>4.948166370391846</td><td>0.0031694222126885684</td><td>0.00014186082236953483</td><td>0.035491512638972864</td><td>1.0</td><td>0.0012160553774285265</td><td>9.773951707980899e-06</td><td>0.9975068338387034</td><td>g1</td><td>EB_ED</td><td>0.44</td><td>1.0</td><td>1.0320147105119468</td><td>LGGS J002025.14+591807.0</td><td>0.673288</td><td>Em*</td></tr>\n",
       "<tr><td>33</td><td>255</td><td>zr</td><td>1809211300042556</td><td>5.104897</td><td>59.3017366</td><td>69</td><td>373.0929870605469</td><td>18.275829132442595</td><td>2.6674472875271335e-90</td><td>0.11327856034040451</td><td>0.001375357249321539</td><td>1.0320068845115302</td><td>2800.0</td><td>0.3347432036825122</td><td>0.4368187766445606</td><td>17.9891357421875</td><td>0.11327856034040451</td><td>17.746601104736328</td><td>18.317096710205078</td><td>-0.2812368869781494</td><td>4.270895004272461</td><td>1.5558270969718855</td><td>0.15668171891981486</td><td>1.1141008282741423</td><td>0.0</td><td>0.006088827762534277</td><td>0.011779700320321718</td><td>0.33527586671359777</td><td>g2</td><td>EB_ESD</td><td>0.47</td><td>1.0</td><td>1.03206146424625</td><td>LGGS J002025.14+591807.0</td><td>0.673288</td><td>Em*</td></tr>\n",
       "<tr><td>34</td><td>262</td><td>zr</td><td>806203100066774</td><td>5.0923593</td><td>59.2905314</td><td>47</td><td>69.82019805908203</td><td>38.91810847787773</td><td>2.7070799463523733e-53</td><td>0.6786577701568604</td><td>0.01119726988308914</td><td>0.49965518558957156</td><td>1.0000382578787317</td><td>0.7754340824948506</td><td>0.20238766341970976</td><td>19.44239044189453</td><td>0.6786577701568604</td><td>18.714841842651367</td><td>20.65707015991211</td><td>-3.7074921131134033</td><td>7.766139984130859</td><td>0.22264380739446424</td><td>0.1307478494307414</td><td>0.22968831654429941</td><td>0.0</td><td>0.18579412733352618</td><td>0.17535911634839485</td><td>0.5158600894836809</td><td>g1</td><td>EB_EC</td><td>0.35</td><td>1.0</td><td>0.09078892946504284</td><td>2MASS J00202199+5917244</td><td>1.974818</td><td>Star</td></tr>\n",
       "<tr><td>35</td><td>315</td><td>zr</td><td>1809211300042825</td><td>5.0868978</td><td>59.2869242</td><td>72</td><td>63.207035064697266</td><td>4.1788380304412005</td><td>2.1511308544204457e-07</td><td>0.1439714878797531</td><td>0.000187163068922743</td><td>1.0030338804198469</td><td>2800.0</td><td>0.36285724511275</td><td>0.7857401096549662</td><td>19.643043518066406</td><td>0.1439714878797531</td><td>19.119903564453125</td><td>20.011585235595703</td><td>-0.20033274590969086</td><td>2.0648193359375</td><td>0.08120697452458714</td><td>0.08039810766669613</td><td>0.1279801009175918</td><td>1.0</td><td>0.4709780575207513</td><td>0.21041513652227795</td><td>0.7184752799454598</td><td>g1</td><td>NonVar</td><td>0.4</td><td>1.0</td><td>0.031095095658787694</td><td>[TG2009] 37</td><td>0.133038</td><td>Cl*</td></tr>\n",
       "<tr><td>36</td><td>327</td><td>zr</td><td>806203100065444</td><td>5.1044464</td><td>59.2943568</td><td>791</td><td>126.15838623046875</td><td>4.271625242806142</td><td>1.1799533878129044e-35</td><td>0.10737201571464539</td><td>0.0021659032287026396</td><td>0.10816495046431858</td><td>0.997336033066433</td><td>0.06811531069578533</td><td>0.0027631117798198324</td><td>18.90690040588379</td><td>0.10737201571464539</td><td>18.557729721069336</td><td>19.47563934326172</td><td>-0.15325677394866943</td><td>2.0806000232696533</td><td>0.016008223276643262</td><td>0.0012938063956680402</td><td>0.05569855407483264</td><td>1.0</td><td>0.003937130553971824</td><td>0.00032888592116975257</td><td>0.9389537372927137</td><td>g1</td><td>EB_ED</td><td>0.69</td><td>1.0</td><td>0.10816551767581632</td><td>[TG2009] 47</td><td>0.451896</td><td>Cl*</td></tr>\n",
       "<tr><td>37</td><td>335</td><td>zr</td><td>1809211300062129</td><td>5.0937108</td><td>59.2879426</td><td>69</td><td>144.1470184326172</td><td>14.058840559900954</td><td>6.548656792186355e-63</td><td>0.1899997442960739</td><td>7.136810783986465e-05</td><td>1.0030338804198469</td><td>2800.0</td><td>0.39412491820613493</td><td>0.7838745064471087</td><td>19.259601593017578</td><td>0.1899997442960739</td><td>18.53577995300293</td><td>19.583187103271484</td><td>-0.463669091463089</td><td>3.82987117767334</td><td>0.05477514284327756</td><td>0.032697369470114646</td><td>0.038573230257881</td><td>1.0</td><td>0.1915068662472198</td><td>0.36074181296909646</td><td>0.3275873670516902</td><td>gu</td><td>NonVar</td><td>0.42</td><td>1.0</td><td>0.030449478355027922</td><td>[MAC92]  8</td><td>0.393243</td><td>WR*</td></tr>\n",
       "<tr><td>38</td><td>2245</td><td>zr</td><td>1809211300008436</td><td>5.0529695</td><td>59.2866951</td><td>46</td><td>41.93986892700195</td><td>4.661566381303784</td><td>1.0988640025603464e-06</td><td>0.19345131516456604</td><td>0.0027272650351123405</td><td>0.11189492501466104</td><td>2800.0</td><td>0.4376465271257713</td><td>0.3224111862567143</td><td>20.178050994873047</td><td>0.19345131516456604</td><td>19.396223068237305</td><td>20.48585319519043</td><td>-0.2570529282093048</td><td>2.2018439769744873</td><td>0.056315070138003125</td><td>0.01283883135497381</td><td>0.11923148398160978</td><td>0.0</td><td>0.030404441309314523</td><td>0.006951627120665438</td><td>0.8282120507006001</td><td>g2</td><td>DSCT</td><td>0.48</td><td>1.0</td><td>0.17931085526315765</td><td>2MASS J00201270+5917121</td><td>0.085519</td><td>Star</td></tr>\n",
       "<tr><td>39</td><td>355</td><td>zr</td><td>1809211300073443</td><td>5.0958045</td><td>59.2882378</td><td>72</td><td>146.04254150390625</td><td>5.916308084091742</td><td>1.1358711246222187e-15</td><td>0.10122936218976974</td><td>0.0005225846564205853</td><td>382.4088378361008</td><td>2800.0</td><td>0.3433830870268943</td><td>0.9503507268778144</td><td>18.969881057739258</td><td>0.10122936218976974</td><td>18.509231567382812</td><td>19.17320442199707</td><td>-0.15650856494903564</td><td>2.4342241287231445</td><td>0.2619917387597769</td><td>0.049663822438105854</td><td>0.5070335935602986</td><td>0.0</td><td>0.021189137827929527</td><td>0.005763205656321491</td><td>0.7983418028253394</td><td>g2</td><td>DSCT</td><td>0.46</td><td>1.0</td><td>0.2114404970241902</td><td>[HL90]  88</td><td>1.573857</td><td>HII</td></tr>\n",
       "<tr><td>40</td><td>375</td><td>zr</td><td>806203100022788</td><td>5.0517032</td><td>59.3213302</td><td>863</td><td>243.40322875976562</td><td>4.339909612554746</td><td>6.57010132303244e-41</td><td>0.06744527071714401</td><td>0.004371321607343625</td><td>1.035024430967775</td><td>0.997336033066433</td><td>0.059299440885666674</td><td>0.016110911211231597</td><td>18.250446319580078</td><td>0.06744527071714401</td><td>17.946002960205078</td><td>18.49357032775879</td><td>-0.0828903391957283</td><td>2.086005926132202</td><td>0.1335512216421054</td><td>0.04229061345146951</td><td>0.34850375340018674</td><td>1.0</td><td>0.05755409972515724</td><td>0.008804497813858725</td><td>0.8855113804485788</td><td>g1</td><td>EB_ED</td><td>0.52</td><td>1.0</td><td>1.0350763698539494</td><td>[TG2009] 19</td><td>0.187905</td><td>Cl*</td></tr>\n",
       "<tr><td>41</td><td>416</td><td>zr</td><td>1809211300074778</td><td>5.0720292</td><td>59.2822916</td><td>46</td><td>45.948062896728516</td><td>5.671770518266539</td><td>7.762983270568136e-10</td><td>0.2085275799036026</td><td>0.005059793161470567</td><td>0.5079538169163074</td><td>2800.0</td><td>0.42165230892896427</td><td>0.5436900024260072</td><td>20.163175582885742</td><td>0.2085275799036026</td><td>19.311893463134766</td><td>20.509090423583984</td><td>-0.3021303415298462</td><td>2.440004825592041</td><td>0.16709468001525707</td><td>0.008953971542616847</td><td>0.16080417043855774</td><td>0.0</td><td>0.0017400019594802085</td><td>0.0018780322036180408</td><td>0.4804650257162797</td><td>g2</td><td>DSCT</td><td>0.57</td><td>1.0</td><td>0.09719601305967408</td><td>[TG2009] 25</td><td>0.251288</td><td>Cl*</td></tr>\n",
       "<tr><td>42</td><td>435</td><td>zr</td><td>806203100063377</td><td>5.1061729</td><td>59.2902923</td><td>506</td><td>49.31586837768555</td><td>4.746266302277278</td><td>2.782973981475023e-32</td><td>0.23724156618118286</td><td>2.7125296319005857e-05</td><td>0.9970487501779594</td><td>0.9973157097647236</td><td>0.12854486483177738</td><td>0.7773619393434185</td><td>20.100353240966797</td><td>0.23724156618118286</td><td>19.150394439697266</td><td>20.90695571899414</td><td>-0.3206848204135895</td><td>2.2515599727630615</td><td>0.018378826854630086</td><td>0.004877414787697934</td><td>0.038761659939318675</td><td>1.0</td><td>0.04087334477022131</td><td>0.009458360624237883</td><td>0.8269902050729847</td><td>g1</td><td>NonVar</td><td>0.63</td><td>1.0</td><td>0.03159649029293671</td><td>LGGS J002025.42+591725.4</td><td>0.671259</td><td>Em*</td></tr>\n",
       "<tr><td>43</td><td>447</td><td>zr</td><td>1809211300062152</td><td>5.0989025</td><td>59.2860393</td><td>68</td><td>55.87238311767578</td><td>5.4488214786430245</td><td>1.2099101217976913e-12</td><td>0.1946876496076584</td><td>0.00047432954672761924</td><td>0.22996924223977375</td><td>2800.0</td><td>0.36077951806575587</td><td>0.021939457361378763</td><td>19.8021240234375</td><td>0.1946876496076584</td><td>19.191696166992188</td><td>20.255985260009766</td><td>-0.3176475465297699</td><td>2.3880271911621094</td><td>0.19652259279056</td><td>0.022325971730570132</td><td>0.21362024252235523</td><td>0.0</td><td>0.007728584651147008</td><td>0.006552803016752429</td><td>0.542400647990729</td><td>g2</td><td>RRL_e</td><td>0.55</td><td>1.0</td><td>0.22997195233908052</td><td>[MAC92] 11</td><td>0.365085</td><td>WR*</td></tr>\n",
       "<tr><td>44</td><td>450</td><td>zr</td><td>1809211300006858</td><td>5.0421284</td><td>59.3205533</td><td>71</td><td>104.10762023925781</td><td>9.28203683269363</td><td>1.775069228182458e-34</td><td>0.17925117909908295</td><td>0.0001268342810912127</td><td>0.994475535843111</td><td>2800.0</td><td>0.37494252082950713</td><td>0.7975495518782002</td><td>19.340208053588867</td><td>0.17925117909908295</td><td>18.77216148376465</td><td>19.73044204711914</td><td>-0.3773040473461151</td><td>3.102909803390503</td><td>0.04667692980288524</td><td>0.06892930989941727</td><td>0.06955800901184077</td><td>1.0</td><td>0.8601887055113437</td><td>0.4717148067677356</td><td>0.6941492008229115</td><td>g1</td><td>NonVar</td><td>0.46</td><td>1.0</td><td>0.03215151327251605</td><td>[HL90]  20</td><td>0.05126</td><td>HII</td></tr>\n",
       "<tr><td>45</td><td>450</td><td>zr</td><td>806203100051919</td><td>5.0419883</td><td>59.3205705</td><td>781</td><td>104.02005767822266</td><td>9.152037427151605</td><td>7.483865617943201e-194</td><td>0.19636449217796326</td><td>0.0041718393773966375</td><td>0.11248480797139279</td><td>0.997336033066433</td><td>0.06218042993610111</td><td>0.005716164711371293</td><td>19.327335357666016</td><td>0.19636449217796326</td><td>18.591175079345703</td><td>20.009807586669922</td><td>-0.40470364689826965</td><td>3.1063857078552246</td><td>0.028296238162346953</td><td>0.004579294372418812</td><td>0.025361843547927566</td><td>1.0</td><td>0.015531663260136108</td><td>0.019259680051021633</td><td>0.4444350108833446</td><td>gu</td><td>NonVar</td><td>0.71</td><td>1.0</td><td>0.036361268660413705</td><td>[HL90]  20</td><td>0.05126</td><td>HII</td></tr>\n",
       "<tr><td>46</td><td>490</td><td>zr</td><td>806203100066997</td><td>5.1145497</td><td>59.2946405</td><td>180</td><td>352.0688171386719</td><td>24.009002830369976</td><td>5.64550651182146e-201</td><td>0.15727277100086212</td><td>0.06907922597892298</td><td>0.10966653251616149</td><td>0.9973072933112778</td><td>0.16239911373181798</td><td>0.022975292610012275</td><td>18.124507904052734</td><td>0.15727277100086212</td><td>17.787487030029297</td><td>18.680400848388672</td><td>-0.4581165313720703</td><td>4.937063694000244</td><td>0.012300301923952515</td><td>0.00974543808635721</td><td>0.06919538283213311</td><td>1.0</td><td>0.32021619846655625</td><td>0.011813461177408002</td><td>0.9817603030705776</td><td>g1</td><td>EB_ED</td><td>0.55</td><td>1.0</td><td>0.05913114709770768</td><td>[VSG2007] 1</td><td>1.683358</td><td>Star</td></tr>\n",
       "<tr><td>47</td><td>490</td><td>zr</td><td>1809211300077234</td><td>5.114586</td><td>59.2945524</td><td>28</td><td>284.1361999511719</td><td>20.751958538407802</td><td>6.346828117582107e-44</td><td>0.1341477781534195</td><td>0.022687067908569274</td><td>0.11938048327180223</td><td>2800.0</td><td>0.54121305004809</td><td>0.197612271452528</td><td>18.15241813659668</td><td>0.1341477781534195</td><td>17.947158813476562</td><td>18.488935470581055</td><td>-0.37343376874923706</td><td>4.517210483551025</td><td>0.8117626211694475</td><td>0.5887026101843128</td><td>0.755272334516608</td><td>0.0</td><td>0.27332678012437817</td><td>0.3110486354935498</td><td>0.4633203738585965</td><td>gu</td><td>EB_EC</td><td>0.55</td><td>1.0</td><td>0.03811852003105538</td><td>[VSG2007] 1</td><td>1.683358</td><td>Star</td></tr>\n",
       "<tr><td>48</td><td>492</td><td>zr</td><td>806203100056889</td><td>5.0358075</td><td>59.3185918</td><td>733</td><td>85.00874328613281</td><td>2.701065255958428</td><td>3.3635217753636803e-06</td><td>0.12177672982215881</td><td>0.0020364810187459515</td><td>0.49862525095538524</td><td>0.997336033066433</td><td>0.06942770825970035</td><td>0.3806161245276416</td><td>19.65494728088379</td><td>0.12177672982215881</td><td>18.786863327026367</td><td>20.060819625854492</td><td>-0.12891224026679993</td><td>1.659706711769104</td><td>0.005563884312789783</td><td>0.006913533044805608</td><td>0.03520948207823625</td><td>0.0</td><td>0.6775693067607422</td><td>0.022702798187815953</td><td>0.9867749844459817</td><td>g1</td><td>NonVar</td><td>0.51</td><td>1.0</td><td>0.19258256847401517</td><td>LGGS J002008.59+591907.2</td><td>0.210015</td><td>Em*</td></tr>\n",
       "<tr><td>49</td><td>503</td><td>zr</td><td>806203100066872</td><td>5.1117599</td><td>59.2908293</td><td>327</td><td>162.2562713623047</td><td>21.931733048373943</td><td>1.7740368540506322e-264</td><td>0.24136704206466675</td><td>5.5422804977047414e-05</td><td>0.12244981976152461</td><td>0.9999755248720346</td><td>0.19710772951819885</td><td>0.015279784348669364</td><td>19.280698776245117</td><td>0.24136704206466675</td><td>18.241134643554688</td><td>19.72449493408203</td><td>-0.6899496912956238</td><td>4.873989105224609</td><td>0.11669015374958994</td><td>0.04781747868324882</td><td>0.10801728472800479</td><td>0.0</td><td>0.09439414131775659</td><td>0.10932803734184415</td><td>0.46073493318456993</td><td>gu</td><td>DSCT</td><td>0.52</td><td>1.0</td><td>0.06768265595345566</td><td>WBBH J002027+591728.7</td><td>1.946779</td><td>Radio</td></tr>\n",
       "<tr><td>50</td><td>512</td><td>zr</td><td>1809211300075544</td><td>5.1126409</td><td>59.2912826</td><td>74</td><td>199.24407958984375</td><td>16.52189339089448</td><td>2.132132422227349e-84</td><td>0.16489960253238678</td><td>2.0337664006591772e-07</td><td>0.9944745226368831</td><td>2800.0</td><td>0.47133945918243325</td><td>0.8192871232347033</td><td>18.931011199951172</td><td>0.16489960253238678</td><td>18.323556900024414</td><td>19.215164184570312</td><td>-0.4236414134502411</td><td>4.118890285491943</td><td>0.027506411386681456</td><td>0.043621948466846985</td><td>0.03894452979370893</td><td>1.0</td><td>0.9322417942505067</td><td>0.5767261029987754</td><td>0.671057515424559</td><td>g1</td><td>RRL_c</td><td>0.38</td><td>1.0</td><td>0.3815887660252698</td><td>[HL90] 111</td><td>0.51112</td><td>HII</td></tr>\n",
       "<tr><td>51</td><td>512</td><td>zr</td><td>806203100065956</td><td>5.1128581</td><td>59.2913699</td><td>757</td><td>200.45091247558594</td><td>17.51420769562067</td><td>0.0</td><td>0.18484532833099365</td><td>3.6318663244583555e-07</td><td>383.73478252936764</td><td>0.997336033066433</td><td>0.1118735226663281</td><td>0.5760780978635037</td><td>18.932117462158203</td><td>0.18484532833099365</td><td>18.19173240661621</td><td>19.35700798034668</td><td>-0.47931474447250366</td><td>4.279047966003418</td><td>0.01978119550329346</td><td>0.02803320548636427</td><td>0.04308017830051377</td><td>0.0</td><td>0.8163017737958094</td><td>0.224457906165884</td><td>0.8369396211732574</td><td>g1</td><td>NonVar</td><td>0.56</td><td>1.0</td><td>0.04698361943172643</td><td>[HL90] 111</td><td>0.51112</td><td>HII</td></tr>\n",
       "<tr><td>52</td><td>520</td><td>zr</td><td>806203100043892</td><td>5.1155686</td><td>59.2939272</td><td>841</td><td>1168.3980712890625</td><td>40.64508869916109</td><td>0.0</td><td>0.11062225699424744</td><td>6.947737486037759e-05</td><td>365.196712888864</td><td>0.997336033066433</td><td>0.08108778744889046</td><td>0.5115028643299753</td><td>16.91519546508789</td><td>0.11062225699424744</td><td>16.4925537109375</td><td>17.237308502197266</td><td>-0.22739821672439575</td><td>6.380244255065918</td><td>0.04622134974387448</td><td>0.010328342073684991</td><td>0.11672418092652277</td><td>1.0</td><td>0.029236387515876205</td><td>0.00471205729422397</td><td>0.8776261354000424</td><td>g1</td><td>LPV_SRV_AGB_C</td><td>0.47</td><td>1.0</td><td>348.9003579000004</td><td>LGGS J002027.75+591738.1</td><td>0.028448</td><td>Star</td></tr>\n",
       "<tr><td>53</td><td>520</td><td>zr</td><td>1809211300062082</td><td>5.1156739</td><td>59.2938908</td><td>77</td><td>1086.6387939453125</td><td>42.19497980100905</td><td>1.4269135895027017e-284</td><td>0.09920433163642883</td><td>0.011443015003127268</td><td>0.10774114976962429</td><td>2800.0</td><td>0.2636838964457371</td><td>0.026076573149902263</td><td>16.91514778137207</td><td>0.09920433163642883</td><td>16.592437744140625</td><td>17.125843048095703</td><td>-0.2238776534795761</td><td>6.46541690826416</td><td>0.21611360166607793</td><td>0.13928455090539413</td><td>0.16320743518644515</td><td>0.0</td><td>0.22054014856201098</td><td>0.3650353953407979</td><td>0.36021395891900587</td><td>gu</td><td>DSCT</td><td>0.46</td><td>1.0</td><td>0.030573493119952097</td><td>LGGS J002027.75+591738.1</td><td>0.028448</td><td>Star</td></tr>\n",
       "<tr><td>54</td><td>566</td><td>zr</td><td>806203100066871</td><td>5.1197068</td><td>59.2952131</td><td>59</td><td>48.07163619995117</td><td>7.148760296154511</td><td>1.8652309518752545e-09</td><td>0.2519274950027466</td><td>0.01706965804745714</td><td>0.15355174505813468</td><td>0.9973526337114462</td><td>0.5568078820077347</td><td>0.011585244887603714</td><td>19.62002944946289</td><td>0.2519274950027466</td><td>19.258750915527344</td><td>20.1932373046875</td><td>-0.49811893701553345</td><td>2.7390761375427246</td><td>0.28376681856993774</td><td>0.17101831006891796</td><td>0.23186784475382108</td><td>0.0</td><td>0.1949209945107504</td><td>0.2817669489202155</td><td>0.3983396331391672</td><td>gu</td><td>EB_ESD</td><td>0.39</td><td>1.0</td><td>0.03636951306718546</td><td>RSMV  3</td><td>0.995714</td><td>WR*</td></tr>\n",
       "<tr><td>55</td><td>570</td><td>zr</td><td>806203100065462</td><td>5.1145053</td><td>59.2897153</td><td>739</td><td>226.8890380859375</td><td>14.507777096720007</td><td>0.0</td><td>0.16506515443325043</td><td>2.160766005887563e-05</td><td>365.196712888864</td><td>0.997336033066433</td><td>0.09413704677759244</td><td>0.5035213608516309</td><td>18.810991287231445</td><td>0.16506515443325043</td><td>18.090190887451172</td><td>19.30210304260254</td><td>-0.3968023657798767</td><td>3.872786283493042</td><td>0.01766178342923621</td><td>0.014448023869007794</td><td>0.0712786553052426</td><td>0.0</td><td>0.33886681307775335</td><td>0.02416158602600671</td><td>0.957130261483582</td><td>g1</td><td>EB_ED</td><td>0.43</td><td>1.0</td><td>1.0322495795858002</td><td>[TG2009] 52</td><td>0.308594</td><td>Cl*</td></tr>\n",
       "<tr><td>56</td><td>570</td><td>zr</td><td>1809211300054620</td><td>5.114492</td><td>59.2896351</td><td>72</td><td>183.6667938232422</td><td>12.153755984587304</td><td>4.617974215662529e-53</td><td>0.13731445372104645</td><td>1.4078953470934066e-05</td><td>382.40917435630683</td><td>2800.0</td><td>0.411114083279847</td><td>0.9554284679847785</td><td>18.82187271118164</td><td>0.13731445372104645</td><td>18.36139678955078</td><td>19.07986068725586</td><td>-0.3071824312210083</td><td>3.509162425994873</td><td>0.12228419646708184</td><td>0.12772274885583906</td><td>0.24557349569735173</td><td>0.0</td><td>0.5148438529383639</td><td>0.14816421846472538</td><td>0.8110232056796297</td><td>g1</td><td>DSCT</td><td>0.62</td><td>1.0</td><td>0.0762915386713366</td><td>[TG2009] 52</td><td>0.308594</td><td>Cl*</td></tr>\n",
       "<tr><td>57</td><td>597</td><td>zr</td><td>806203100064579</td><td>5.0746925</td><td>59.3304359</td><td>580</td><td>38.39198684692383</td><td>3.4566314038889803</td><td>4.356227431365632e-15</td><td>0.19688035547733307</td><td>9.446852039687455e-07</td><td>0.9997101088711547</td><td>0.997336033066433</td><td>0.12560454686948572</td><td>0.7329791294959996</td><td>20.089448928833008</td><td>0.19688035547733307</td><td>19.46037483215332</td><td>20.76877212524414</td><td>-0.23433245718479156</td><td>1.9056395292282104</td><td>0.025902526476854943</td><td>0.007658060075030271</td><td>0.08797071727271374</td><td>1.0</td><td>0.050399143691208126</td><td>0.004561998760593489</td><td>0.9354488105149571</td><td>g1</td><td>EB_ESD</td><td>0.27</td><td>1.0</td><td>0.9997144925501446</td><td>[TG2009] 29</td><td>0.529322</td><td>Cl*</td></tr>\n",
       "<tr><td>58</td><td>809</td><td>zr</td><td>806203100043803</td><td>5.0108597</td><td>59.2967231</td><td>458</td><td>42.58924102783203</td><td>3.0366479319363795</td><td>4.435432690399248e-07</td><td>0.2074139565229416</td><td>1.6173414877306926e-15</td><td>0.997336033066433</td><td>0.997336033066433</td><td>0.3024074449566368</td><td>0.947016600540211</td><td>20.467073440551758</td><td>0.2074139565229416</td><td>19.33881950378418</td><td>20.94649887084961</td><td>-0.18446701765060425</td><td>1.778443694114685</td><td>0.009251863017757453</td><td>0.016100324619532147</td><td>0.014418489505313412</td><td>0.0</td><td>0.9989598624049676</td><td>0.5738792369592906</td><td>0.7136931566241631</td><td>g1</td><td>LPV_Mira_AGB_C</td><td>0.33</td><td>0.0</td><td>647.9578075285723</td><td>[LSG2012] 4</td><td>0.103316</td><td>Star</td></tr>\n",
       "<tr><td>59</td><td>1598</td><td>zr</td><td>806203100066517</td><td>4.9908162</td><td>59.331209</td><td>132</td><td>33.85908126831055</td><td>6.833775113915994</td><td>1.4465990112201798e-19</td><td>0.33824780583381653</td><td>5.170003322739312e-05</td><td>29.391363117002637</td><td>0.997343815080248</td><td>0.39895915296037404</td><td>0.14509645197144716</td><td>20.497573852539062</td><td>0.33824780583381653</td><td>19.58376121520996</td><td>21.659961700439453</td><td>-0.45679327845573425</td><td>2.7391819953918457</td><td>0.052821335755054134</td><td>0.0069996531716181466</td><td>0.09239049241864881</td><td>0.0</td><td>0.010475914400590258</td><td>0.003463045904735673</td><td>0.7609530221332929</td><td>g2</td><td>CEPH_Other</td><td>0.21</td><td>1.0</td><td>1.0323285664310158</td><td>[TG2009] 2</td><td>0.117999</td><td>Cl*</td></tr>\n",
       "</table><style>table.dataTable {clear: both; width: auto !important; margin: 0 !important;}\n",
       ".dataTables_info, .dataTables_length, .dataTables_filter, .dataTables_paginate{\n",
       "display: inline-block; margin-right: 1em; }\n",
       ".paginate_button { margin-right: 5px; }\n",
       "</style>\n",
       "<script>\n",
       "\n",
       "var astropy_sort_num = function(a, b) {\n",
       "    var a_num = parseFloat(a);\n",
       "    var b_num = parseFloat(b);\n",
       "\n",
       "    if (isNaN(a_num) && isNaN(b_num))\n",
       "        return ((a < b) ? -1 : ((a > b) ? 1 : 0));\n",
       "    else if (!isNaN(a_num) && !isNaN(b_num))\n",
       "        return ((a_num < b_num) ? -1 : ((a_num > b_num) ? 1 : 0));\n",
       "    else\n",
       "        return isNaN(a_num) ? -1 : 1;\n",
       "}\n",
       "\n",
       "require.config({paths: {\n",
       "    datatables: 'https://cdn.datatables.net/1.10.12/js/jquery.dataTables.min'\n",
       "}});\n",
       "require([\"datatables\"], function(){\n",
       "    console.log(\"$('#table2509136539456-277').dataTable()\");\n",
       "    \n",
       "jQuery.extend( jQuery.fn.dataTableExt.oSort, {\n",
       "    \"optionalnum-asc\": astropy_sort_num,\n",
       "    \"optionalnum-desc\": function (a,b) { return -astropy_sort_num(a, b); }\n",
       "});\n",
       "\n",
       "    $('#table2509136539456-277').dataTable({\n",
       "        order: [],\n",
       "        pageLength: 50,\n",
       "        lengthMenu: [[10, 25, 50, 100, 500, 1000, -1], [10, 25, 50, 100, 500, 1000, 'All']],\n",
       "        pagingType: \"full_numbers\",\n",
       "        columnDefs: [{targets: [0, 1, 4, 5, 6, 7, 8, 9, 10, 11, 12, 13, 14, 15, 16, 17, 18, 19, 20, 21, 22, 23, 24, 25, 26, 27, 28, 31, 32, 33, 35], type: \"optionalnum\"}]\n",
       "    });\n",
       "});\n",
       "</script>\n"
      ],
      "text/plain": [
       "<IPython.core.display.HTML object>"
      ]
     },
     "execution_count": 8,
     "metadata": {},
     "output_type": "execute_result"
    }
   ],
   "source": [
    "unobj_zr[np.isnan(unobj_zr['dist'])==0].show_in_notebook()"
   ]
  },
  {
   "cell_type": "code",
   "execution_count": 9,
   "id": "feff9770",
   "metadata": {},
   "outputs": [
    {
     "data": {
      "text/html": [
       "<i>QTable length=38</i>\n",
       "<table id=\"table2509136538448-219522\" class=\"table-striped table-bordered table-condensed\">\n",
       "<thead><tr><th>idx</th><th>SourceID</th><th>filter</th><th>OID</th><th>RA</th><th>DEC</th><th>numobs</th><th>DELTA_SIG_MAG</th><th>CONST_CHI2</th><th>sf</th><th>rmse</th><th>LNP_SIG</th><th>period</th><th>period_c</th><th>power</th><th>power_c</th><th>mean</th><th>std</th><th>min</th><th>max</th><th>sigma_mean</th><th>sigma_std</th><th>gaussian1_err</th><th>gaussian2_err</th><th>gumbel_err</th><th>g2_flag</th><th>Pg1g2</th><th>Pgug2</th><th>Pg1gu</th><th>shape</th><th>upsilon_class</th><th>upsilon_prob</th><th>upsilon_flag</th><th>upsilon_period</th><th>identifier</th><th>dist</th><th>type</th></tr></thead>\n",
       "<tr><td>0</td><td>55</td><td>zg</td><td>806103100036162</td><td>5.0724243</td><td>59.3110593</td><td>337</td><td>524.6041259765625</td><td>11.53433716011322</td><td>3.585358205401398e-226</td><td>0.09109293669462204</td><td>6.624513205261614e-05</td><td>0.9972441069114794</td><td>1.0000143393856216</td><td>0.09943739652561774</td><td>0.904815666787983</td><td>17.759519577026367</td><td>0.09109293669462204</td><td>17.35228729248047</td><td>18.282495498657227</td><td>-0.11940788477659225</td><td>3.39772629737854</td><td>0.021082675533131933</td><td>0.0009674376856350767</td><td>0.058600720395744474</td><td>1.0</td><td>0.0012778740354683071</td><td>0.0001663393556028403</td><td>0.8995923437308072</td><td>g1</td><td>RRL_ab</td><td>0.53</td><td>1.0</td><td>0.4986132790810157</td><td>[BGR2000] Br 1</td><td>0.179192</td><td>HII</td></tr>\n",
       "<tr><td>1</td><td>55</td><td>zg</td><td>1809111300028565</td><td>5.07245</td><td>59.3110868</td><td>66</td><td>392.635986328125</td><td>14.967355206033764</td><td>8.396331195386733e-66</td><td>0.09816054254770279</td><td>0.001972449838350469</td><td>0.22232818693454928</td><td>2800.0</td><td>0.33767960153347515</td><td>0.09093510017475841</td><td>17.740047454833984</td><td>0.09816054254770279</td><td>17.36347198486328</td><td>17.94055938720703</td><td>-0.16121967136859894</td><td>3.8505306243896484</td><td>0.379122196310376</td><td>0.1487498025445291</td><td>0.17974030374835914</td><td>1.0</td><td>0.0868797174594248</td><td>0.34586527658886057</td><td>0.1729739946754486</td><td>gu</td><td>DSCT</td><td>0.5</td><td>1.0</td><td>0.05968903932818899</td><td>[BGR2000] Br 1</td><td>0.179192</td><td>HII</td></tr>\n",
       "<tr><td>2</td><td>79</td><td>zg</td><td>806103100049853</td><td>5.0841666</td><td>59.3103325</td><td>319</td><td>100.89814758300781</td><td>13.190935937807287</td><td>1.6236212003927169e-261</td><td>0.3389107882976532</td><td>0.9630887610262819</td><td>0.16739794432900304</td><td>1.0000143393856216</td><td>0.03901288339198156</td><td>0.007827767361578522</td><td>19.090709686279297</td><td>0.3389107882976532</td><td>18.44477653503418</td><td>20.729827880859375</td><td>-1.0078935623168945</td><td>3.8302736282348633</td><td>0.006344376912315118</td><td>0.0005656665842803147</td><td>0.006346515322447545</td><td>0.0</td><td>0.004783614293595195</td><td>0.004780419612124387</td><td>0.5001716322684765</td><td>g2</td><td>NonVar</td><td>0.52</td><td>1.0</td><td>0.06183049345419848</td><td>[TCA2017] T6</td><td>1.076874</td><td>WR*</td></tr>\n",
       "<tr><td>3</td><td>85</td><td>zg</td><td>1809111300042593</td><td>5.0848266</td><td>59.3104646</td><td>63</td><td>141.77206420898438</td><td>9.276872126191114</td><td>9.143553620057548e-31</td><td>0.1382504105567932</td><td>0.07441019645986488</td><td>0.10729436912034605</td><td>2800.0</td><td>0.260849559494291</td><td>0.13702182318181275</td><td>18.98121452331543</td><td>0.1382504105567932</td><td>18.409698486328125</td><td>19.191980361938477</td><td>-0.23721453547477722</td><td>3.05719256401062</td><td>0.1080647020177061</td><td>0.051463802722698744</td><td>0.13516570580772344</td><td>1.0</td><td>0.12553472621604278</td><td>0.0820303747466492</td><td>0.6123250237883335</td><td>g1</td><td>DSCT</td><td>0.57</td><td>1.0</td><td>0.038396544192168085</td><td>LGGS J002020.35+591837.6</td><td>0.289957</td><td>Em*</td></tr>\n",
       "<tr><td>4</td><td>85</td><td>zg</td><td>806103100049852</td><td>5.085006</td><td>59.3105231</td><td>329</td><td>224.17538452148438</td><td>7.025316375455554</td><td>6.21282558930419e-93</td><td>0.11896347999572754</td><td>0.0004236128690688058</td><td>0.9972441069114794</td><td>1.0000143393856216</td><td>0.09157741272952273</td><td>0.9078939327038209</td><td>19.00056266784668</td><td>0.11896347999572754</td><td>18.165077209472656</td><td>19.442018508911133</td><td>-0.16950754821300507</td><td>2.6658737659454346</td><td>0.008877441947716527</td><td>0.006429471672819983</td><td>0.010441253403287687</td><td>0.0</td><td>0.2726699506922211</td><td>0.20281337087079054</td><td>0.5820041377754086</td><td>g1</td><td>NonVar</td><td>0.49</td><td>1.0</td><td>0.0776094618838224</td><td>LGGS J002020.35+591837.6</td><td>0.289957</td><td>Em*</td></tr>\n",
       "<tr><td>5</td><td>100</td><td>zg</td><td>806103100049623</td><td>5.0844871</td><td>59.311539</td><td>60</td><td>121.29397583007812</td><td>44.425590429699454</td><td>3.580400110681386e-239</td><td>0.49035248160362244</td><td>0.004218381083631</td><td>1.0001441927691062</td><td>1.0000110121384305</td><td>0.33303417110226397</td><td>0.9110818249847177</td><td>19.399503707885742</td><td>0.49035248160362244</td><td>18.297286987304688</td><td>20.46368408203125</td><td>-2.1311886310577393</td><td>7.429434776306152</td><td>0.06658749629043535</td><td>0.013527366068103966</td><td>0.07014360405237723</td><td>0.0</td><td>0.024267649787369616</td><td>0.021916109343879664</td><td>0.5264766425083548</td><td>g2</td><td>EB_EC</td><td>0.35</td><td>1.0</td><td>0.05015370325241265</td><td>[MAC92]  6</td><td>0.903892</td><td>WR*</td></tr>\n",
       "<tr><td>6</td><td>119</td><td>zg</td><td>806103100042733</td><td>5.0876383</td><td>59.2962106</td><td>296</td><td>87.90541076660156</td><td>5.024397182504031</td><td>9.038635021729923e-41</td><td>0.15175144374370575</td><td>9.397199102478995e-05</td><td>0.25218106626800674</td><td>1.0000143393856216</td><td>0.10973730338686587</td><td>0.021996031938818078</td><td>19.505632400512695</td><td>0.15175144374370575</td><td>18.947853088378906</td><td>20.012239456176758</td><td>-0.21085329353809357</td><td>2.2690656185150146</td><td>0.013043866112065053</td><td>0.005979015925001082</td><td>0.06787238162481836</td><td>1.0</td><td>0.11678855631709106</td><td>0.00467065689444679</td><td>0.9775440558428248</td><td>g1</td><td>RRL_e</td><td>0.43</td><td>1.0</td><td>0.25217573802190474</td><td>LGGS J002021.06+591746.6</td><td>0.185349</td><td>Em*</td></tr>\n",
       "<tr><td>7</td><td>123</td><td>zg</td><td>806103100048640</td><td>5.0781439</td><td>59.3147332</td><td>244</td><td>126.86740112304688</td><td>9.403029979822907</td><td>1.013742520700753e-118</td><td>0.1822487860918045</td><td>2.7325094954031613e-08</td><td>0.49864507358720267</td><td>1.0000143393856216</td><td>0.18691121331207844</td><td>0.3077929299888371</td><td>19.45258140563965</td><td>0.1822487860918045</td><td>18.62520980834961</td><td>19.8988094329834</td><td>-0.32598063349723816</td><td>3.122201919555664</td><td>0.042290215089673754</td><td>0.0020347587621617003</td><td>0.13256448024131778</td><td>1.0</td><td>0.0014042738690458467</td><td>0.00014382122813572096</td><td>0.9226243669833485</td><td>g1</td><td>RRL_e</td><td>0.58</td><td>1.0</td><td>0.24948490180958144</td><td>[TG2009] 32</td><td>0.473968</td><td>Cl*</td></tr>\n",
       "<tr><td>8</td><td>123</td><td>zg</td><td>1809111300045802</td><td>5.0781815</td><td>59.3148952</td><td>37</td><td>110.92314147949219</td><td>17.84984323258706</td><td>1.6914790415062008e-47</td><td>0.23689748346805573</td><td>0.003386885681282917</td><td>0.1598091354902017</td><td>2800.0</td><td>0.504305694823387</td><td>0.10697503862460139</td><td>19.469947814941406</td><td>0.23689748346805573</td><td>18.591289520263672</td><td>19.791259765625</td><td>-0.5614709258079529</td><td>4.332732200622559</td><td>0.13101240700344824</td><td>0.06341263524021801</td><td>0.17430714489109017</td><td>0.0</td><td>0.12943534947646318</td><td>0.07517581364548409</td><td>0.6420393095053725</td><td>g1</td><td>DSCT</td><td>0.58</td><td>1.0</td><td>0.03993476921574907</td><td>[TG2009] 32</td><td>0.473968</td><td>Cl*</td></tr>\n",
       "<tr><td>9</td><td>128</td><td>zg</td><td>806103100029733</td><td>5.0803404</td><td>59.3150712</td><td>326</td><td>199.4447021484375</td><td>10.174357666706207</td><td>3.689449660154022e-179</td><td>0.14220526814460754</td><td>2.415362491140026e-06</td><td>0.9946200219827421</td><td>1.0000143393856216</td><td>0.12090795839317756</td><td>0.06037667927701669</td><td>18.984163284301758</td><td>0.14220526814460754</td><td>18.285764694213867</td><td>19.250402450561523</td><td>-0.24554207921028137</td><td>3.2186222076416016</td><td>0.0473119415628532</td><td>0.0036995525811489944</td><td>0.13996626874387139</td><td>1.0</td><td>0.003687303327418623</td><td>0.0004255773656467454</td><td>0.9121326216398279</td><td>g1</td><td>CEPH_Other</td><td>0.38</td><td>1.0</td><td>0.9947116227631579</td><td>[BGR2000] Br 2</td><td>1.485283</td><td>SNR</td></tr>\n",
       "<tr><td>10</td><td>128</td><td>zg</td><td>1809111300047885</td><td>5.0803638</td><td>59.3150886</td><td>58</td><td>98.10738372802734</td><td>7.25096665629108</td><td>7.771966587623677e-19</td><td>0.15138696134090424</td><td>0.027271233033139594</td><td>0.10996880648263942</td><td>2800.0</td><td>0.30674870963395723</td><td>0.04858631256194091</td><td>19.010231018066406</td><td>0.15138696134090424</td><td>18.683761596679688</td><td>19.424171447753906</td><td>-0.260867178440094</td><td>2.7068915367126465</td><td>0.3683434262053793</td><td>0.47414568075174396</td><td>0.374943889773745</td><td>1.0</td><td>0.7139840368041125</td><td>0.6955581598070186</td><td>0.5090445983015485</td><td>g1</td><td>DSCT</td><td>0.79</td><td>1.0</td><td>0.0639789737457735</td><td>[BGR2000] Br 2</td><td>1.485283</td><td>SNR</td></tr>\n",
       "<tr><td>11</td><td>156</td><td>zg</td><td>806103100020258</td><td>5.0910276</td><td>59.2947302</td><td>308</td><td>117.40338134765625</td><td>4.4494326872435686</td><td>5.074599547130466e-31</td><td>0.12520378828048706</td><td>0.002909097184916737</td><td>0.13004175447118768</td><td>1.0000143393856216</td><td>0.08516039470620025</td><td>0.00986933720961098</td><td>19.23925018310547</td><td>0.12520378828048706</td><td>18.719032287597656</td><td>19.751001358032227</td><td>-0.16304732859134674</td><td>2.1249256134033203</td><td>0.023251546214181257</td><td>0.005132257405092238</td><td>0.05169536195511608</td><td>1.0</td><td>0.028543605152563045</td><td>0.005919110850053921</td><td>0.8431302298808365</td><td>g1</td><td>NonVar</td><td>0.53</td><td>1.0</td><td>0.03141716767191223</td><td>[MAC92]  7</td><td>0.044008</td><td>WR*</td></tr>\n",
       "<tr><td>12</td><td>156</td><td>zg</td><td>1809111300005230</td><td>5.0910893</td><td>59.2947259</td><td>61</td><td>67.43103790283203</td><td>4.04105602720598</td><td>4.952368651986349e-06</td><td>0.1262972354888916</td><td>0.0006345013413801262</td><td>0.2043944641719529</td><td>2800.0</td><td>0.3855719030454168</td><td>0.01883677384130148</td><td>19.242340087890625</td><td>0.1262972354888916</td><td>18.929969787597656</td><td>19.568466186523438</td><td>-0.1632709950208664</td><td>2.014493227005005</td><td>0.30715249603444067</td><td>0.43960400494220053</td><td>0.41998299777612397</td><td>1.0</td><td>0.8268806756259391</td><td>0.5166665328626565</td><td>0.6549189609107853</td><td>g1</td><td>DSCT</td><td>0.54</td><td>1.0</td><td>0.2043855165085368</td><td>[MAC92]  7</td><td>0.044008</td><td>WR*</td></tr>\n",
       "<tr><td>13</td><td>177</td><td>zg</td><td>806103100042725</td><td>5.0974728</td><td>59.2976045</td><td>285</td><td>79.70652770996094</td><td>3.778404304633603</td><td>5.499307153612001e-18</td><td>0.1415337175130844</td><td>0.004892006472562159</td><td>0.11465425165499679</td><td>1.0000143393856216</td><td>0.08774548140750031</td><td>0.004270257053608375</td><td>19.759414672851562</td><td>0.1415337175130844</td><td>19.026283264160156</td><td>20.087844848632812</td><td>-0.16404321789741516</td><td>1.9651528596878052</td><td>0.05428650731767865</td><td>0.00804093722578661</td><td>0.19138206057342105</td><td>1.0</td><td>0.013047231930611969</td><td>0.001072088290012485</td><td>0.940790787474758</td><td>g1</td><td>NonVar</td><td>0.61</td><td>1.0</td><td>0.04905144259667791</td><td>[HL90]  89</td><td>0.393793</td><td>HII</td></tr>\n",
       "<tr><td>14</td><td>179</td><td>zg</td><td>806103100047213</td><td>5.0967599</td><td>59.2967401</td><td>140</td><td>46.27132034301758</td><td>3.7974360793247617</td><td>5.117688321585779e-10</td><td>0.19791057705879211</td><td>0.002613830370677713</td><td>0.3454064960292753</td><td>1.0000143393856216</td><td>0.1691816521796462</td><td>0.010178936147940406</td><td>20.335800170898438</td><td>0.19791057705879211</td><td>19.51763153076172</td><td>20.75957679748535</td><td>-0.21265582740306854</td><td>1.9851075410842896</td><td>0.09920417870592549</td><td>0.0026972397544022045</td><td>0.1965497031597042</td><td>1.0</td><td>0.0004502386206233222</td><td>0.00011499557520588954</td><td>0.8064519176108946</td><td>g1</td><td>DSCT</td><td>0.69</td><td>1.0</td><td>0.09423061741316272</td><td>[HL90]  85</td><td>1.793232</td><td>HII</td></tr>\n",
       "<tr><td>15</td><td>188</td><td>zg</td><td>806103100048934</td><td>5.096284</td><td>59.2959606</td><td>130</td><td>42.22352981567383</td><td>4.122334994842959</td><td>9.292467457838567e-12</td><td>0.23296251893043518</td><td>3.07665743706747e-05</td><td>363.1052795088386</td><td>1.0000110121384305</td><td>0.23770951125882617</td><td>0.42229469421787663</td><td>20.576635360717773</td><td>0.23296251893043518</td><td>19.653785705566406</td><td>21.143218994140625</td><td>-0.2265753448009491</td><td>2.0706446170806885</td><td>0.0701389212265031</td><td>0.0012483064990709072</td><td>0.11792199705159882</td><td>0.0</td><td>0.00019327330595864112</td><td>6.847001343923687e-05</td><td>0.7452847395374038</td><td>g2</td><td>DSCT</td><td>0.67</td><td>1.0</td><td>0.1447758523889087</td><td>LGGS J002023.01+591745.3</td><td>0.784284</td><td>Em*</td></tr>\n",
       "<tr><td>16</td><td>2874</td><td>zg</td><td>806103100049590</td><td>5.0850493</td><td>59.2900357</td><td>41</td><td>47.36659240722656</td><td>10.124896676694236</td><td>3.975609654156131e-24</td><td>0.35133108496665955</td><td>0.0003897991100423773</td><td>0.9945715256737216</td><td>0.9999869942879513</td><td>0.5164666800561746</td><td>0.11570756210274191</td><td>20.58327293395996</td><td>0.35133108496665955</td><td>19.513675689697266</td><td>21.361923217773438</td><td>-0.5164027214050293</td><td>3.3114173412323</td><td>0.028431263033781073</td><td>0.0345134012309214</td><td>0.04140965554784992</td><td>1.0</td><td>0.6540446149852226</td><td>0.35020036271869814</td><td>0.6839201268302102</td><td>g1</td><td>EB_ESD</td><td>0.22</td><td>1.0</td><td>0.9945551647199361</td><td>LGGS J002020.20+591724.1</td><td>1.622966</td><td>Em*</td></tr>\n",
       "<tr><td>17</td><td>226</td><td>zg</td><td>806103100019748</td><td>5.0480058</td><td>59.3138469</td><td>282</td><td>73.63167572021484</td><td>3.046063521567718</td><td>2.8619709313550422e-08</td><td>0.13800252974033356</td><td>0.002986993299606201</td><td>15.220071219754228</td><td>1.0000143393856216</td><td>0.09183666869154007</td><td>0.006038727953197501</td><td>19.8690185546875</td><td>0.13800252974033356</td><td>19.080232620239258</td><td>20.262638092041016</td><td>-0.14381557703018188</td><td>1.7630715370178223</td><td>0.0469018733524873</td><td>0.0014051114890119298</td><td>0.1629528246769584</td><td>1.0</td><td>0.0005463525300654082</td><td>4.5447333544834656e-05</td><td>0.9387484096549245</td><td>g1</td><td>NonVar</td><td>0.68</td><td>1.0</td><td>0.032758587068118794</td><td>[TG2009] 18</td><td>0.640597</td><td>Cl*</td></tr>\n",
       "<tr><td>18</td><td>255</td><td>zg</td><td>1809111300042634</td><td>5.10463</td><td>59.3018658</td><td>62</td><td>125.05511474609375</td><td>9.403457208931858</td><td>5.691150720178278e-31</td><td>0.15898162126541138</td><td>0.011617921555644603</td><td>0.19992934535942036</td><td>2800.0</td><td>0.3119552674466371</td><td>0.40819219943219104</td><td>18.884212493896484</td><td>0.15898162126541138</td><td>18.509933471679688</td><td>19.30118751525879</td><td>-0.3057346045970917</td><td>3.0868422985076904</td><td>0.18335292491633184</td><td>0.11967840819626413</td><td>0.17939795385186613</td><td>1.0</td><td>0.22572224097142268</td><td>0.2348992843131843</td><td>0.488895681171301</td><td>gu</td><td>DSCT</td><td>0.86</td><td>1.0</td><td>0.08341744153461132</td><td>LGGS J002025.14+591807.0</td><td>0.297041</td><td>Em*</td></tr>\n",
       "<tr><td>19</td><td>255</td><td>zg</td><td>806103100045169</td><td>5.1047352</td><td>59.3018731</td><td>318</td><td>186.94601440429688</td><td>7.848261561647127</td><td>1.4567699643537235e-111</td><td>0.12197493016719818</td><td>0.00010847761179567281</td><td>365.20933973392897</td><td>1.0000143393856216</td><td>0.10180393660564069</td><td>0.3917531425848811</td><td>18.83403205871582</td><td>0.12197493016719818</td><td>18.319629669189453</td><td>19.158384323120117</td><td>-0.1873149871826172</td><td>2.8176698684692383</td><td>0.09010701165274722</td><td>0.014146287298536994</td><td>0.2872056406542903</td><td>1.0</td><td>0.01463100232063752</td><td>0.0014713246205012576</td><td>0.9254531310877782</td><td>g1</td><td>NonVar</td><td>0.64</td><td>1.0</td><td>0.13649148410568127</td><td>LGGS J002025.14+591807.0</td><td>0.297041</td><td>Em*</td></tr>\n",
       "<tr><td>20</td><td>301</td><td>zg</td><td>806103100049413</td><td>5.0938281</td><td>59.2896762</td><td>122</td><td>38.576595306396484</td><td>3.750587134472043</td><td>1.2821506927274825e-08</td><td>0.22602075338363647</td><td>6.166516815559757e-05</td><td>0.10191896077741613</td><td>1.0000143393856216</td><td>0.24195739941443364</td><td>0.0009900723421075429</td><td>20.573009490966797</td><td>0.22602075338363647</td><td>19.753108978271484</td><td>21.15689468383789</td><td>-0.20932698249816895</td><td>1.9709810018539429</td><td>0.04926932361831087</td><td>0.007511128380814289</td><td>0.12287585068579568</td><td>1.0</td><td>0.013809073726883336</td><td>0.0022609041735719426</td><td>0.8745153289007007</td><td>g1</td><td>DSCT</td><td>0.79</td><td>1.0</td><td>0.09989835920713579</td><td>LGGS J002022.58+591723.2</td><td>0.235194</td><td>Em*</td></tr>\n",
       "<tr><td>21</td><td>327</td><td>zg</td><td>806103100020260</td><td>5.1043719</td><td>59.2943715</td><td>291</td><td>87.99473571777344</td><td>3.078060480481977</td><td>7.238197656089972e-09</td><td>0.11605117470026016</td><td>0.0016426700274197856</td><td>0.9972441069114794</td><td>1.0000143393856216</td><td>0.09296478326409426</td><td>0.9113666199300737</td><td>19.53271484375</td><td>0.11605117470026016</td><td>18.935522079467773</td><td>19.780942916870117</td><td>-0.12390908598899841</td><td>1.7660902738571167</td><td>0.02053944996187388</td><td>0.0018338305653365148</td><td>0.0986837339922139</td><td>1.0</td><td>0.004796708146339146</td><td>0.00021067325237156265</td><td>0.9723477521767903</td><td>g1</td><td>RRL_ab</td><td>0.32</td><td>1.0</td><td>0.3320560029136164</td><td>[TG2009] 47</td><td>0.241544</td><td>Cl*</td></tr>\n",
       "<tr><td>22</td><td>327</td><td>zg</td><td>1809111300005248</td><td>5.1044025</td><td>59.2943697</td><td>61</td><td>99.30697631835938</td><td>12.179402788098189</td><td>2.3773548396022782e-45</td><td>0.2083241492509842</td><td>0.06912288382973573</td><td>0.8462229404139798</td><td>2800.0</td><td>0.2686136060671895</td><td>0.00820162426950171</td><td>19.538576126098633</td><td>0.2083241492509842</td><td>18.53030776977539</td><td>20.169572830200195</td><td>-0.3968045115470886</td><td>3.5595366954803467</td><td>0.015014634692933362</td><td>0.0040419441068126295</td><td>0.021642679351974385</td><td>1.0</td><td>0.04202358112489679</td><td>0.02057870064066092</td><td>0.6792285070178898</td><td>g1</td><td>DSCT</td><td>0.57</td><td>1.0</td><td>0.04055977677490327</td><td>[TG2009] 47</td><td>0.241544</td><td>Cl*</td></tr>\n",
       "<tr><td>23</td><td>329</td><td>zg</td><td>806103100042642</td><td>5.0638716</td><td>59.3225466</td><td>11</td><td>33.734336853027344</td><td>16.686323792127517</td><td>1.0633318207085803e-13</td><td>0.4694218337535858</td><td>0.0006039589871993512</td><td>0.10533121367052582</td><td>0.9973742330402446</td><td>0.964596954985901</td><td>0.9537538568135776</td><td>21.2827205657959</td><td>0.4694218337535858</td><td>19.986671447753906</td><td>21.821189880371094</td><td>-0.6778064370155334</td><td>4.193398952484131</td><td>0.2435791641103024</td><td>0.3714036476374649</td><td>0.17711328210274715</td><td>0.0</td><td>0.8934867958423378</td><td>1.0</td><td>0.34238106941168023</td><td>gu</td><td>RRL_c</td><td>0.56</td><td>1.0</td><td>0.2932529256079775</td><td>[DBL2004] 283</td><td>1.939133</td><td>C*</td></tr>\n",
       "<tr><td>24</td><td>335</td><td>zg</td><td>1809111300042709</td><td>5.0935089</td><td>59.2878501</td><td>28</td><td>42.11746597290039</td><td>7.186918491378614</td><td>7.890352560863699e-10</td><td>0.2518192529678345</td><td>0.000607656419206109</td><td>0.9973751187304021</td><td>2800.0</td><td>0.6602737778754574</td><td>0.9953404954228177</td><td>20.233001708984375</td><td>0.2518192529678345</td><td>19.36269760131836</td><td>20.63054656982422</td><td>-0.3705120086669922</td><td>2.745689630508423</td><td>0.030923868600062708</td><td>0.0476703768800067</td><td>0.028137817215387474</td><td>0.0</td><td>0.9045639671585166</td><td>0.9860286945604553</td><td>0.4520401157044863</td><td>gu</td><td>DSCT</td><td>0.45</td><td>1.0</td><td>0.1435903898459611</td><td>[MAC92]  8</td><td>1.120615</td><td>WR*</td></tr>\n",
       "<tr><td>25</td><td>335</td><td>zg</td><td>806103100048673</td><td>5.0933475</td><td>59.287722</td><td>132</td><td>43.6439094543457</td><td>4.280531464256063</td><td>4.637027490530935e-13</td><td>0.23049692809581757</td><td>0.0005692541982134238</td><td>0.1143426311719472</td><td>0.9999280014216904</td><td>0.200128423590111</td><td>0.01611122495411178</td><td>20.326091766357422</td><td>0.23049692809581757</td><td>19.60915756225586</td><td>21.053251266479492</td><td>-0.26294058561325073</td><td>2.1160624027252197</td><td>0.01638831303007181</td><td>0.0026244753213973803</td><td>0.040847024169371415</td><td>1.0</td><td>0.015214034296356593</td><td>0.002496340828344046</td><td>0.8743626783168589</td><td>g1</td><td>DSCT</td><td>0.8</td><td>1.0</td><td>0.11434320026894818</td><td>[MAC92]  8</td><td>1.120615</td><td>WR*</td></tr>\n",
       "<tr><td>26</td><td>355</td><td>zg</td><td>806103100049270</td><td>5.0958488</td><td>59.2882754</td><td>220</td><td>77.65165710449219</td><td>5.506870393748134</td><td>4.259776962525569e-38</td><td>0.18925411999225616</td><td>2.416750848755546e-07</td><td>0.9973756746669208</td><td>1.0000143393856216</td><td>0.18934374437169815</td><td>0.9294583090774734</td><td>20.05048370361328</td><td>0.18925411999225616</td><td>18.9368953704834</td><td>20.592723846435547</td><td>-0.24516431987285614</td><td>2.392667770385742</td><td>0.009575975970434653</td><td>0.003384994034018294</td><td>0.029085198477410753</td><td>0.0</td><td>0.0711386440043138</td><td>0.008106530061899986</td><td>0.9170397048522102</td><td>g2</td><td>NonVar</td><td>0.51</td><td>1.0</td><td>0.037368063334541624</td><td>[HL90]  88</td><td>1.505843</td><td>HII</td></tr>\n",
       "<tr><td>27</td><td>2921</td><td>zg</td><td>806103100049456</td><td>5.0432404</td><td>59.3205024</td><td>65</td><td>43.212398529052734</td><td>5.2212101767567045</td><td>3.7996149035140776e-11</td><td>0.27187663316726685</td><td>0.01260305537802107</td><td>0.21419667468573322</td><td>0.9999334615660056</td><td>0.29492045138080536</td><td>0.002547344866294501</td><td>20.256486892700195</td><td>0.27187663316726685</td><td>19.629505157470703</td><td>21.17032814025879</td><td>-0.3475092351436615</td><td>2.342911720275879</td><td>0.029086075581694425</td><td>0.007759404611191385</td><td>0.027192147645478806</td><td>1.0</td><td>0.04129084962485774</td><td>0.047054965534445437</td><td>0.4657537265126208</td><td>gu</td><td>DSCT</td><td>0.24</td><td>1.0</td><td>0.05294207016841215</td><td>[YS93] HL20a</td><td>1.755124</td><td>SNR</td></tr>\n",
       "<tr><td>28</td><td>444</td><td>zg</td><td>1809111300005420</td><td>5.0401845</td><td>59.2887031</td><td>64</td><td>168.25323486328125</td><td>11.554730087878538</td><td>6.408980613511917e-44</td><td>0.1399209052324295</td><td>0.14617818989381448</td><td>0.1072993022325569</td><td>2800.0</td><td>0.23860092945973457</td><td>0.13159957921065282</td><td>19.209257125854492</td><td>0.1399209052324295</td><td>18.279727935791016</td><td>19.45054054260254</td><td>-0.23607587814331055</td><td>3.4171993732452393</td><td>0.02452735052650379</td><td>0.038782022188794854</td><td>0.005088637129396892</td><td>0.0</td><td>0.929426008395378</td><td>1.0</td><td>0.027424237094478054</td><td>gu</td><td>DSCT</td><td>0.48</td><td>1.0</td><td>0.04138818791676477</td><td>[TG2009] 15</td><td>0.134693</td><td>Cl*</td></tr>\n",
       "<tr><td>29</td><td>468</td><td>zg</td><td>1809111300047871</td><td>5.0381537</td><td>59.319035</td><td>15</td><td>28.09246826171875</td><td>9.919042409720996</td><td>2.444184267027967e-09</td><td>0.3782217800617218</td><td>0.0035175694220803064</td><td>0.16399446667484155</td><td>2800.0</td><td>0.8511293895305092</td><td>0.27078932856220395</td><td>20.893983840942383</td><td>0.3782217800617218</td><td>19.826576232910156</td><td>21.210054397583008</td><td>-0.5054737329483032</td><td>3.242065668106079</td><td>0.6611060822192272</td><td>1.107697780968115</td><td>0.5901835790982332</td><td>0.0</td><td>0.9786109693425942</td><td>1.0</td><td>0.44242104710598706</td><td>gu</td><td>DSCT</td><td>0.56</td><td>1.0</td><td>0.04265935389933566</td><td>LGGS J002009.18+591908.9</td><td>0.507838</td><td>Em*</td></tr>\n",
       "<tr><td>30</td><td>512</td><td>zg</td><td>1809111300042686</td><td>5.1127777</td><td>59.2912842</td><td>45</td><td>46.61687088012695</td><td>5.844923040324477</td><td>3.220028379011323e-10</td><td>0.21295516192913055</td><td>0.006082034060249997</td><td>0.4805059500692002</td><td>2800.0</td><td>0.41938081145599376</td><td>0.07934444299386369</td><td>19.81072235107422</td><td>0.21295516192913055</td><td>19.272449493408203</td><td>20.157283782958984</td><td>-0.33149346709251404</td><td>2.4654324054718018</td><td>0.16163719070471558</td><td>0.10728145273381477</td><td>0.18515538071689658</td><td>0.0</td><td>0.23272240597877747</td><td>0.18122286290320866</td><td>0.5688129253550572</td><td>g1</td><td>DSCT</td><td>0.6</td><td>1.0</td><td>0.038975739873629435</td><td>[HL90] 111</td><td>0.665065</td><td>HII</td></tr>\n",
       "<tr><td>31</td><td>512</td><td>zg</td><td>806103100036330</td><td>5.1127245</td><td>59.2912276</td><td>243</td><td>74.19727325439453</td><td>5.758458161398143</td><td>2.4251548628878896e-46</td><td>0.19089363515377045</td><td>6.460019549027792e-06</td><td>0.9946200219827421</td><td>1.0000143393856216</td><td>0.1499655759005256</td><td>0.10328014613283973</td><td>19.823162078857422</td><td>0.19089363515377045</td><td>19.06597900390625</td><td>20.30552864074707</td><td>-0.27919265627861023</td><td>2.4489388465881348</td><td>0.01750118427097909</td><td>0.014237489838156665</td><td>0.05774465818616999</td><td>0.0</td><td>0.3355657178515208</td><td>0.035422373143751185</td><td>0.9310434974684088</td><td>g1</td><td>EB_ESD</td><td>0.24</td><td>1.0</td><td>0.9947116227631579</td><td>[HL90] 111</td><td>0.665065</td><td>HII</td></tr>\n",
       "<tr><td>32</td><td>520</td><td>zg</td><td>806103100042755</td><td>5.1155455</td><td>59.2939089</td><td>319</td><td>639.1444702148438</td><td>18.66997082865181</td><td>0.0</td><td>0.10060398280620575</td><td>8.257307078725426e-06</td><td>0.9972441069114794</td><td>1.0000143393856216</td><td>0.11620904929735505</td><td>0.9068201261033566</td><td>17.473400115966797</td><td>0.10060398280620575</td><td>16.94784164428711</td><td>17.692337036132812</td><td>-0.13875150680541992</td><td>4.321415901184082</td><td>0.07246551572244893</td><td>0.01176463891435047</td><td>0.17923632778159954</td><td>1.0</td><td>0.015628854739867304</td><td>0.002604516376568111</td><td>0.8724226515252409</td><td>g1</td><td>LPV_SRV_AGB_C</td><td>0.54</td><td>1.0</td><td>377.99041665</td><td>[TG2009] 54</td><td>0.184279</td><td>Cl*</td></tr>\n",
       "<tr><td>33</td><td>520</td><td>zg</td><td>1809111300028818</td><td>5.1155634</td><td>59.2938424</td><td>65</td><td>649.3743286132812</td><td>29.02214387035368</td><td>1.3204925617902158e-153</td><td>0.12010055035352707</td><td>0.007684490086954262</td><td>0.10411596223359412</td><td>2800.0</td><td>0.3108335500401581</td><td>0.027961029761370937</td><td>17.44045066833496</td><td>0.12010055035352707</td><td>16.95718765258789</td><td>17.699010848999023</td><td>-0.24100974202156067</td><td>5.363523960113525</td><td>0.17762758320994756</td><td>0.07487912781509044</td><td>0.47915026714665243</td><td>1.0</td><td>0.09962498003683673</td><td>0.01449933044269025</td><td>0.8930854388797282</td><td>g1</td><td>DSCT</td><td>0.54</td><td>1.0</td><td>0.03560156552337814</td><td>[TG2009] 54</td><td>0.184279</td><td>Cl*</td></tr>\n",
       "<tr><td>34</td><td>570</td><td>zg</td><td>806103100048116</td><td>5.1145368</td><td>59.2897328</td><td>246</td><td>78.60697174072266</td><td>5.374150793112068</td><td>3.53505277955158e-40</td><td>0.17738625407218933</td><td>7.92627170505834e-07</td><td>0.9972474654408493</td><td>0.9999280014216904</td><td>0.16310124299463125</td><td>0.9128276027747432</td><td>19.764698028564453</td><td>0.17738625407218933</td><td>19.015047073364258</td><td>20.273496627807617</td><td>-0.2503834664821625</td><td>2.358759641647339</td><td>0.007879798082113332</td><td>0.004601288134284699</td><td>0.06207204194272172</td><td>0.0</td><td>0.18385432361064957</td><td>0.003316392456185868</td><td>0.992888583468667</td><td>g1</td><td>EB_ESD</td><td>0.22</td><td>1.0</td><td>0.9946686456550815</td><td>[TG2009] 52</td><td>0.354278</td><td>Cl*</td></tr>\n",
       "<tr><td>35</td><td>634</td><td>zg</td><td>806103100036210</td><td>5.0182304</td><td>59.3043789</td><td>194</td><td>49.215702056884766</td><td>3.5407492420284408</td><td>1.6917212167059943e-10</td><td>0.21327510476112366</td><td>4.1026339781358765e-06</td><td>0.4992949057783736</td><td>1.0000029353002315</td><td>0.18718404264637728</td><td>0.8762309240143091</td><td>20.68330192565918</td><td>0.21327510476112366</td><td>19.455577850341797</td><td>21.395200729370117</td><td>-0.16932910680770874</td><td>1.9098169803619385</td><td>0.0022194313401322197</td><td>0.000723314613681952</td><td>0.023465513955757543</td><td>0.0</td><td>0.06083811283244944</td><td>0.0005783005047556022</td><td>0.9970299391230558</td><td>g2</td><td>NonVar</td><td>0.57</td><td>1.0</td><td>0.0327103794687075</td><td>LGGS J002004.36+591815.9</td><td>0.230622</td><td>Em*</td></tr>\n",
       "<tr><td>36</td><td>1221</td><td>zg</td><td>806103100029560</td><td>5.0080792</td><td>59.3292124</td><td>86</td><td>35.05562973022461</td><td>4.142257232712246</td><td>2.1404695477162886e-08</td><td>0.2639433741569519</td><td>0.001195673653483438</td><td>1.0351621339532913</td><td>0.9972692300161607</td><td>0.2763752906153377</td><td>0.4882544509089237</td><td>21.270122528076172</td><td>0.2639433741569519</td><td>19.928754806518555</td><td>21.730609893798828</td><td>-0.18256546556949615</td><td>2.0635719299316406</td><td>0.005950681148539096</td><td>0.009598264466241086</td><td>0.015200099956056241</td><td>0.0</td><td>0.9477950042834447</td><td>0.21242215863564629</td><td>0.8804184444288882</td><td>g1</td><td>DSCT</td><td>0.44</td><td>1.0</td><td>0.031621526269142726</td><td>[TG2009] 5</td><td>0.34237</td><td>Cl*</td></tr>\n",
       "<tr><td>37</td><td>2108</td><td>zg</td><td>806103400020659</td><td>4.994544</td><td>59.25776</td><td>65</td><td>31.84955596923828</td><td>4.615499904418647</td><td>6.998753284217009e-09</td><td>0.3129687011241913</td><td>2.4349245452925336e-05</td><td>1.0351195416231407</td><td>0.9973508584193344</td><td>0.41690642583944615</td><td>0.22835306450813572</td><td>21.1883544921875</td><td>0.3129687011241913</td><td>20.046491622924805</td><td>21.952177047729492</td><td>-0.23776203393936157</td><td>2.1845967769622803</td><td>0.05052021314692271</td><td>0.009422340686690532</td><td>0.05264859258373121</td><td>1.0</td><td>0.020524338909746143</td><td>0.018927781098963647</td><td>0.5210061629109852</td><td>g1</td><td>RRL_c</td><td>0.43</td><td>1.0</td><td>0.3368275545077013</td><td>LGGS J001958.69+591527.7</td><td>0.122589</td><td>Star</td></tr>\n",
       "</table><style>table.dataTable {clear: both; width: auto !important; margin: 0 !important;}\n",
       ".dataTables_info, .dataTables_length, .dataTables_filter, .dataTables_paginate{\n",
       "display: inline-block; margin-right: 1em; }\n",
       ".paginate_button { margin-right: 5px; }\n",
       "</style>\n",
       "<script>\n",
       "\n",
       "var astropy_sort_num = function(a, b) {\n",
       "    var a_num = parseFloat(a);\n",
       "    var b_num = parseFloat(b);\n",
       "\n",
       "    if (isNaN(a_num) && isNaN(b_num))\n",
       "        return ((a < b) ? -1 : ((a > b) ? 1 : 0));\n",
       "    else if (!isNaN(a_num) && !isNaN(b_num))\n",
       "        return ((a_num < b_num) ? -1 : ((a_num > b_num) ? 1 : 0));\n",
       "    else\n",
       "        return isNaN(a_num) ? -1 : 1;\n",
       "}\n",
       "\n",
       "require.config({paths: {\n",
       "    datatables: 'https://cdn.datatables.net/1.10.12/js/jquery.dataTables.min'\n",
       "}});\n",
       "require([\"datatables\"], function(){\n",
       "    console.log(\"$('#table2509136538448-219522').dataTable()\");\n",
       "    \n",
       "jQuery.extend( jQuery.fn.dataTableExt.oSort, {\n",
       "    \"optionalnum-asc\": astropy_sort_num,\n",
       "    \"optionalnum-desc\": function (a,b) { return -astropy_sort_num(a, b); }\n",
       "});\n",
       "\n",
       "    $('#table2509136538448-219522').dataTable({\n",
       "        order: [],\n",
       "        pageLength: 50,\n",
       "        lengthMenu: [[10, 25, 50, 100, 500, 1000, -1], [10, 25, 50, 100, 500, 1000, 'All']],\n",
       "        pagingType: \"full_numbers\",\n",
       "        columnDefs: [{targets: [0, 1, 4, 5, 6, 7, 8, 9, 10, 11, 12, 13, 14, 15, 16, 17, 18, 19, 20, 21, 22, 23, 24, 25, 26, 27, 28, 31, 32, 33, 35], type: \"optionalnum\"}]\n",
       "    });\n",
       "});\n",
       "</script>\n"
      ],
      "text/plain": [
       "<IPython.core.display.HTML object>"
      ]
     },
     "execution_count": 9,
     "metadata": {},
     "output_type": "execute_result"
    }
   ],
   "source": [
    "unobj_zg[np.isnan(unobj_zg['dist'])==0].show_in_notebook()"
   ]
  },
  {
   "cell_type": "code",
   "execution_count": null,
   "id": "cdd0c8ef",
   "metadata": {},
   "outputs": [],
   "source": []
  }
 ],
 "metadata": {
  "kernelspec": {
   "display_name": "Python 3 (ipykernel)",
   "language": "python",
   "name": "python3"
  },
  "language_info": {
   "codemirror_mode": {
    "name": "ipython",
    "version": 3
   },
   "file_extension": ".py",
   "mimetype": "text/x-python",
   "name": "python",
   "nbconvert_exporter": "python",
   "pygments_lexer": "ipython3",
   "version": "3.8.12"
  }
 },
 "nbformat": 4,
 "nbformat_minor": 5
}
