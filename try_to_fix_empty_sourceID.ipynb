{
 "cells": [
  {
   "cell_type": "code",
   "execution_count": 1,
   "id": "a0d2328a",
   "metadata": {},
   "outputs": [],
   "source": [
    "from astropy.io import fits\n",
    "import numpy as np\n",
    "from astropy.table import QTable,vstack\n",
    "import astropy.units as u\n",
    "import astropy.utils\n",
    "from astropy.coordinates import SkyCoord\n",
    "import matplotlib.pyplot as plt\n",
    "import matplotlib.colors\n",
    "from scipy.stats import chisquare\n",
    "from scipy.stats import chi2\n",
    "from scipy.stats import lognorm\n",
    "from astropy.timeseries import LombScargle\n",
    "import time\n",
    "from astropy.visualization import hist\n",
    "from scipy.optimize import curve_fit\n",
    "from astropy.timeseries import BoxLeastSquares\n",
    "from astropy.timeseries import TimeSeries\n",
    "from astropy.time import Time\n",
    "import functions\n",
    "from tqdm import tqdm"
   ]
  },
  {
   "cell_type": "code",
   "execution_count": 2,
   "id": "b3576e62",
   "metadata": {},
   "outputs": [
    {
     "name": "stderr",
     "output_type": "stream",
     "text": [
      "WARNING: OverflowError converting to IntType in column oid, reverting to String. [astropy.io.ascii.fastbasic]\n"
     ]
    }
   ],
   "source": [
    "t=QTable.read('t_ZTF_matched_1arcsec.csv')\n",
    "t=t['GroupID','filtercode','oid','ra','dec','ngoodobsrel']\n",
    "t.rename_column('GroupID', 'SourceID')\n",
    "t.rename_column('filtercode', 'filter')\n",
    "t.rename_column('oid', 'OID')\n",
    "t.rename_column('ngoodobsrel', 'numobs')\n",
    "t.rename_column('ra', 'RA')\n",
    "t.rename_column('dec', 'DEC')"
   ]
  },
  {
   "cell_type": "code",
   "execution_count": 12,
   "id": "6d1489ff",
   "metadata": {},
   "outputs": [
    {
     "data": {
      "text/plain": [
       "6330"
      ]
     },
     "execution_count": 12,
     "metadata": {},
     "output_type": "execute_result"
    }
   ],
   "source": [
    "t['SourceID'].max()"
   ]
  },
  {
   "cell_type": "code",
   "execution_count": 27,
   "id": "0bf5d5c1",
   "metadata": {},
   "outputs": [],
   "source": [
    "t_zr=QTable.read('t_zr_0418.ecsv')\n",
    "t_zg=QTable.read('t_zg_0418.ecsv')"
   ]
  },
  {
   "cell_type": "code",
   "execution_count": 28,
   "id": "13bdd274",
   "metadata": {},
   "outputs": [
    {
     "data": {
      "text/plain": [
       "(1616,)"
      ]
     },
     "execution_count": 28,
     "metadata": {},
     "output_type": "execute_result"
    }
   ],
   "source": [
    "t_zr['SourceID'].mask.nonzero()[0].shape"
   ]
  },
  {
   "cell_type": "code",
   "execution_count": 32,
   "id": "a71fe8ae",
   "metadata": {},
   "outputs": [
    {
     "data": {
      "text/plain": [
       "array([6331, 6332, 6333, ..., 7944, 7945, 7946])"
      ]
     },
     "execution_count": 32,
     "metadata": {},
     "output_type": "execute_result"
    }
   ],
   "source": [
    "np.arange(6331,6331+1616)"
   ]
  },
  {
   "cell_type": "code",
   "execution_count": 34,
   "id": "5b0efb0b",
   "metadata": {},
   "outputs": [],
   "source": [
    "t_zr[t_zr['SourceID'].mask.nonzero()[0]]['SourceID']=np.arange(6331,6331+1616)"
   ]
  },
  {
   "cell_type": "code",
   "execution_count": 37,
   "id": "e02064d8",
   "metadata": {},
   "outputs": [],
   "source": [
    "IDsupply=np.arange(6331,6331+1616)\n",
    "for i,idx in enumerate(t_zr['SourceID'].mask.nonzero()[0]):\n",
    "    t_zr[idx]['SourceID']=IDsupply[i]"
   ]
  },
  {
   "cell_type": "code",
   "execution_count": 43,
   "id": "002c7f1a",
   "metadata": {},
   "outputs": [
    {
     "data": {
      "text/plain": [
       "(1015,)"
      ]
     },
     "execution_count": 43,
     "metadata": {},
     "output_type": "execute_result"
    }
   ],
   "source": [
    "t_zg['SourceID'].mask.nonzero()[0].shape"
   ]
  },
  {
   "cell_type": "code",
   "execution_count": 44,
   "id": "97490806",
   "metadata": {},
   "outputs": [
    {
     "data": {
      "text/plain": [
       "array([7947, 7948, 7949, ..., 8959, 8960, 8961])"
      ]
     },
     "execution_count": 44,
     "metadata": {},
     "output_type": "execute_result"
    }
   ],
   "source": [
    "np.arange(7947,7947+1015)"
   ]
  },
  {
   "cell_type": "code",
   "execution_count": 45,
   "id": "bd7ad1b7",
   "metadata": {},
   "outputs": [],
   "source": [
    "IDsupply=np.arange(7947,7947+1015)\n",
    "for i,idx in enumerate(t_zg['SourceID'].mask.nonzero()[0]):\n",
    "    t_zg[idx]['SourceID']=IDsupply[i]"
   ]
  },
  {
   "cell_type": "code",
   "execution_count": 47,
   "id": "7ac08d5e",
   "metadata": {},
   "outputs": [],
   "source": [
    "t_zr.write('t_zr_0418.ecsv')\n",
    "t_zg.write('t_zg_0418.ecsv')"
   ]
  }
 ],
 "metadata": {
  "kernelspec": {
   "display_name": "Python 3 (ipykernel)",
   "language": "python",
   "name": "python3"
  },
  "language_info": {
   "codemirror_mode": {
    "name": "ipython",
    "version": 3
   },
   "file_extension": ".py",
   "mimetype": "text/x-python",
   "name": "python",
   "nbconvert_exporter": "python",
   "pygments_lexer": "ipython3",
   "version": "3.8.12"
  }
 },
 "nbformat": 4,
 "nbformat_minor": 5
}
