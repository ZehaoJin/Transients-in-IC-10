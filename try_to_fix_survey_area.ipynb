{
 "cells": [
  {
   "cell_type": "code",
   "execution_count": 1,
   "id": "a0d2328a",
   "metadata": {},
   "outputs": [],
   "source": [
    "from astropy.io import fits\n",
    "import numpy as np\n",
    "from astropy.table import QTable,vstack\n",
    "import astropy.units as u\n",
    "import astropy.utils\n",
    "from astropy.coordinates import SkyCoord\n",
    "import matplotlib.pyplot as plt\n",
    "import matplotlib.colors\n",
    "from scipy.stats import chisquare\n",
    "from scipy.stats import chi2\n",
    "from scipy.stats import lognorm\n",
    "from astropy.timeseries import LombScargle\n",
    "import time\n",
    "from astropy.visualization import hist\n",
    "from scipy.optimize import curve_fit\n",
    "from astropy.timeseries import BoxLeastSquares\n",
    "from astropy.timeseries import TimeSeries\n",
    "from astropy.time import Time\n",
    "import functions\n",
    "from tqdm import tqdm"
   ]
  },
  {
   "cell_type": "code",
   "execution_count": 2,
   "id": "7ac08d5e",
   "metadata": {},
   "outputs": [],
   "source": [
    "t_zr=QTable.read('t_zr_0418.ecsv')\n",
    "t_zg=QTable.read('t_zg_0418.ecsv')"
   ]
  },
  {
   "cell_type": "code",
   "execution_count": 23,
   "id": "d4a660ee",
   "metadata": {},
   "outputs": [],
   "source": [
    "r=7.5*u.arcmin"
   ]
  },
  {
   "cell_type": "code",
   "execution_count": 24,
   "id": "2191fda6",
   "metadata": {},
   "outputs": [],
   "source": [
    "r=r.to(u.arcsec)/2"
   ]
  },
  {
   "cell_type": "code",
   "execution_count": 27,
   "id": "61e3ba90",
   "metadata": {},
   "outputs": [],
   "source": [
    "t_zr=t_zr[SkyCoord(t_zr['RA']*u.deg,t_zr['DEC']*u.deg, frame='icrs').separation(SkyCoord('00h20m23.16s','59d17m34.7s', frame='icrs'))<r]"
   ]
  },
  {
   "cell_type": "code",
   "execution_count": 28,
   "id": "216ded77",
   "metadata": {},
   "outputs": [],
   "source": [
    "t_zg=t_zg[SkyCoord(t_zg['RA']*u.deg,t_zg['DEC']*u.deg, frame='icrs').separation(SkyCoord('00h20m23.16s','59d17m34.7s', frame='icrs'))<r]"
   ]
  },
  {
   "cell_type": "code",
   "execution_count": 34,
   "id": "034c2247",
   "metadata": {},
   "outputs": [],
   "source": [
    "t_zr.write('t_zr_0518.ecsv',overwrite=True)\n",
    "t_zg.write('t_zg_0518.ecsv',overwrite=True)"
   ]
  },
  {
   "cell_type": "code",
   "execution_count": null,
   "id": "61df9c65",
   "metadata": {},
   "outputs": [],
   "source": []
  }
 ],
 "metadata": {
  "kernelspec": {
   "display_name": "Python 3 (ipykernel)",
   "language": "python",
   "name": "python3"
  },
  "language_info": {
   "codemirror_mode": {
    "name": "ipython",
    "version": 3
   },
   "file_extension": ".py",
   "mimetype": "text/x-python",
   "name": "python",
   "nbconvert_exporter": "python",
   "pygments_lexer": "ipython3",
   "version": "3.8.12"
  }
 },
 "nbformat": 4,
 "nbformat_minor": 5
}
